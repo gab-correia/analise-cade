{
 "cells": [
  {
   "cell_type": "markdown",
   "id": "9cb88ccb",
   "metadata": {},
   "source": [
    "add aqui danilove"
   ]
  },
  {
   "cell_type": "code",
   "execution_count": null,
   "id": "e6a6c16d",
   "metadata": {},
   "outputs": [],
   "source": [
    "import pandas as pd\n",
    "df_final = pd.read_csv(\"../dados/cade_clinicas_2.csv\")"
   ]
  }
 ],
 "metadata": {
  "language_info": {
   "name": "python"
  }
 },
 "nbformat": 4,
 "nbformat_minor": 5
}
