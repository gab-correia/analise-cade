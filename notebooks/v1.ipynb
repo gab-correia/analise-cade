{
 "cells": [
  {
   "cell_type": "code",
   "execution_count": 16,
   "id": "09cc838c",
   "metadata": {},
   "outputs": [],
   "source": [
    "import pandas as pd # data processing\n",
    "import numpy as np # working with arrays\n",
    "import matplotlib.pyplot as plt # visualization\n",
    "import seaborn as sb # visualization\n",
    "\n",
    "from sklearn.model_selection import train_test_split # data split\n",
    "from sklearn.linear_model import LinearRegression # OLS algorithm\n",
    "\n",
    "from sklearn.metrics import explained_variance_score as evs # evaluation metric\n",
    "from sklearn.metrics import r2_score as r2 # evaluation metric\n",
    "from sklearn.metrics import mean_absolute_percentage_error, mean_squared_error\n",
    "from sklearn import svm\n",
    "from sklearn.svm import SVC\n",
    "\n",
    "from feature_engine.encoding import RareLabelEncoder\n",
    "\n",
    "from sklearn.linear_model import LinearRegression\n",
    "from sklearn.ensemble import RandomForestRegressor\n",
    "\n",
    "from agrupar_categorias import create_pipeline\n",
    "\n",
    "sb.set_style('whitegrid') # plot style"
   ]
  },
  {
   "cell_type": "code",
   "execution_count": 17,
   "id": "b8c0ec7a",
   "metadata": {},
   "outputs": [
    {
     "data": {
      "text/plain": [
       "Index(['id', 'id_unique', 'numero_sei', 'ano_documento', 'assinaturas',\n",
       "       'descricao_tipo_acesso', 'descricao_tipo_documento',\n",
       "       'descricao_tipo_processo', 'numero_processo', 'id_unidade',\n",
       "       'sigla_unidade', 'descricao_unidade', 'data_ordem', 'data_documento',\n",
       "       'setor_economico', 'setor_economico_classe', 'setor_economico_divisao',\n",
       "       'setor_economico_grupo', 'setor_economico_secao',\n",
       "       'setor_economico_sub_classe', 'partes_processos_like',\n",
       "       'partes_processos', 'decisao_sg', 'dados_processo',\n",
       "       'ementa_dispositivo', 'ementa_verbetacao', 'id_colecao',\n",
       "       'link_documento', 'mercado_relevante', 'documentos_relacionados',\n",
       "       'qtd_acesso_processo', 'descricao_tipo_protocolo',\n",
       "       'descricao_especificacao', 'data_processo', 'colecao', '_version_',\n",
       "       'palavras', 'relator', 'score', 'nucluster', 'sumario',\n",
       "       'representante_legal', 'descricao_assunto', 'quorum', 'tags',\n",
       "       'entidade', 'numero_acordao', 'interessados', 'numero_ata',\n",
       "       'data_publicacao', 'documentos_citados', 'descricao_protocolo',\n",
       "       'dispositivo_conclusao', 'representante_mp', 'corpo_texto',\n",
       "       'selecionado', 'qtd_acesso', 'corpo_texto_formatado',\n",
       "       'decisao_tribunal', 'soundex', 'clicks', 'descricao_titulo_documento',\n",
       "       'vltfidf', 'conteudo'],\n",
       "      dtype='object')"
      ]
     },
     "execution_count": 17,
     "metadata": {},
     "output_type": "execute_result"
    }
   ],
   "source": [
    "#LINHA DE SELEÇÃO DO INPUT\n",
    "df = pd.read_csv('../cade_clinicas_2.csv', low_memory=False)\n",
    "\n",
    "df.columns\n"
   ]
  },
  {
   "cell_type": "code",
   "execution_count": 18,
   "id": "f3f4bf59",
   "metadata": {},
   "outputs": [],
   "source": [
    "# Mudando o tipo para 'category'\n",
    "colunas = ['descricao_tipo_documento', 'decisao_tribunal', \t'setor_economico', 'setor_economico_sub_classe', 'mercado_relevante', 'assinaturas']\n",
    "for coluna in colunas:\n",
    "    df[coluna] = df[coluna].astype('category')\n",
    "\n",
    "#Formatando colunas de data\n",
    "\n",
    "df['data_ordem'] = pd.to_datetime(df['data_ordem']).dt.date\n",
    "df['data_processo'] = pd.to_datetime(df['data_processo'])\n",
    "df['data_documento'] = pd.to_datetime(df['data_documento'])\n",
    "\n",
    "# Calcular diferença da data do processo pra data do documento em dias\n",
    "df['diferenca_dias'] = (df['data_documento'] - df['data_processo']).dt.days\n",
    "\n",
    "# Remover a hora (deixar apenas a data)\n",
    "df['data_processo'] = df['data_processo'].dt.date\n",
    "df['data_documento'] = df['data_documento'].dt.date"
   ]
  },
  {
   "cell_type": "markdown",
   "id": "0e59aafb",
   "metadata": {},
   "source": [
    "Filtro por Voto"
   ]
  },
  {
   "cell_type": "code",
   "execution_count": 19,
   "id": "0caca575",
   "metadata": {},
   "outputs": [
    {
     "name": "stdout",
     "output_type": "stream",
     "text": [
      "908\n"
     ]
    }
   ],
   "source": [
    "tipos_validos = [\n",
    "    \"Voto\",\n",
    "    \"Voto Processo Administrativo\",\n",
    "    \"Voto Embargos de Declaração\"\n",
    "]\n",
    "\n",
    "df_votos_filtrados = df.loc[\n",
    "    (df[\"descricao_tipo_documento\"].isin(tipos_validos)) &\n",
    "    (df[\"descricao_tipo_processo\"] == \"Processo Administrativo\")\n",
    "]\n",
    "\n",
    "counts = df_votos_filtrados[\"decisao_tribunal\"].value_counts()\n",
    "total = counts.sum()\n",
    "print(total)\n"
   ]
  },
  {
   "cell_type": "markdown",
   "id": "8679d72c",
   "metadata": {},
   "source": [
    "# Limpando colunas:\n",
    "\n",
    "#### Aqui será feito a seleção das melhores colunas para montar um modelo preditivo, e com isso, as colunas com categorias mais complexas como a do setor_economico serão transformadas para outras colunas numéricas ou com diferentes categorias das que existem agora para um melhor agrupamento e análise desses dados\n"
   ]
  },
  {
   "cell_type": "code",
   "execution_count": 20,
   "id": "af174a37",
   "metadata": {},
   "outputs": [],
   "source": [
    "colunas_manter = [ 'id', 'ano_documento', 'assinaturas', 'descricao_tipo_documento',\n",
    "                  'decisao_tribunal', 'setor_economico', 'id_unidade', 'data_processo',\n",
    "                    'data_documento', 'diferenca_dias', 'mercado_relevante','descricao_especificacao', 'conteudo'      \n",
    "]\n",
    "\n",
    "df_curto = df_votos_filtrados[colunas_manter]"
   ]
  },
  {
   "cell_type": "code",
   "execution_count": 21,
   "id": "f36b61b5",
   "metadata": {},
   "outputs": [
    {
     "name": "stderr",
     "output_type": "stream",
     "text": [
      "C:\\Users\\Danilo\\AppData\\Local\\Temp\\ipykernel_19380\\793263355.py:1: SettingWithCopyWarning: \n",
      "A value is trying to be set on a copy of a slice from a DataFrame.\n",
      "Try using .loc[row_indexer,col_indexer] = value instead\n",
      "\n",
      "See the caveats in the documentation: https://pandas.pydata.org/pandas-docs/stable/user_guide/indexing.html#returning-a-view-versus-a-copy\n",
      "  df_curto['decisao_tribunal'] = (\n",
      "C:\\Users\\Danilo\\AppData\\Local\\Temp\\ipykernel_19380\\793263355.py:6: SettingWithCopyWarning: \n",
      "A value is trying to be set on a copy of a slice from a DataFrame.\n",
      "Try using .loc[row_indexer,col_indexer] = value instead\n",
      "\n",
      "See the caveats in the documentation: https://pandas.pydata.org/pandas-docs/stable/user_guide/indexing.html#returning-a-view-versus-a-copy\n",
      "  df_curto['assinaturas'] = (\n",
      "C:\\Users\\Danilo\\AppData\\Local\\Temp\\ipykernel_19380\\793263355.py:11: SettingWithCopyWarning: \n",
      "A value is trying to be set on a copy of a slice from a DataFrame.\n",
      "Try using .loc[row_indexer,col_indexer] = value instead\n",
      "\n",
      "See the caveats in the documentation: https://pandas.pydata.org/pandas-docs/stable/user_guide/indexing.html#returning-a-view-versus-a-copy\n",
      "  df_curto['setor_economico'] = (\n",
      "C:\\Users\\Danilo\\AppData\\Local\\Temp\\ipykernel_19380\\793263355.py:16: SettingWithCopyWarning: \n",
      "A value is trying to be set on a copy of a slice from a DataFrame.\n",
      "Try using .loc[row_indexer,col_indexer] = value instead\n",
      "\n",
      "See the caveats in the documentation: https://pandas.pydata.org/pandas-docs/stable/user_guide/indexing.html#returning-a-view-versus-a-copy\n",
      "  df_curto['mercado_relevante'] = (\n"
     ]
    }
   ],
   "source": [
    "df_curto['decisao_tribunal'] = (\n",
    "    df_curto['decisao_tribunal']\n",
    "    .cat.rename_categories(lambda x: x.replace(\"['\", \"\").replace(\"']\", \"\").replace(\"'\", \"\"))\n",
    ")\n",
    "\n",
    "df_curto['assinaturas'] = (\n",
    "    df_curto['assinaturas']\n",
    "    .cat.rename_categories(lambda x: x.replace(\"['\", \"\").replace(\"']\", \"\").replace(\"'\", \"\"))\n",
    ")\n",
    "\n",
    "df_curto['setor_economico'] = (\n",
    "    df_curto['setor_economico']\n",
    "    .cat.rename_categories(lambda x: x.replace(\"['\", \"\").replace(\"']\", \"\").replace(\"'\", \"\"))\n",
    ")\n",
    "\n",
    "df_curto['mercado_relevante'] = (\n",
    "    df_curto['mercado_relevante']\n",
    "    .cat.rename_categories(lambda x: x.replace(\"['\", \"\").replace(\"']\", \"\").replace(\"'\", \"\"))\n",
    ")"
   ]
  },
  {
   "cell_type": "code",
   "execution_count": 22,
   "id": "f8caef5d",
   "metadata": {},
   "outputs": [
    {
     "name": "stderr",
     "output_type": "stream",
     "text": [
      "C:\\Users\\Danilo\\AppData\\Local\\Temp\\ipykernel_19380\\735382265.py:1: SettingWithCopyWarning: \n",
      "A value is trying to be set on a copy of a slice from a DataFrame.\n",
      "Try using .loc[row_indexer,col_indexer] = value instead\n",
      "\n",
      "See the caveats in the documentation: https://pandas.pydata.org/pandas-docs/stable/user_guide/indexing.html#returning-a-view-versus-a-copy\n",
      "  df_curto['decisao_tribunal'] = df_curto['decisao_tribunal'].cat.rename_categories({\n",
      "C:\\Users\\Danilo\\AppData\\Local\\Temp\\ipykernel_19380\\735382265.py:7: SettingWithCopyWarning: \n",
      "A value is trying to be set on a copy of a slice from a DataFrame.\n",
      "Try using .loc[row_indexer,col_indexer] = value instead\n",
      "\n",
      "See the caveats in the documentation: https://pandas.pydata.org/pandas-docs/stable/user_guide/indexing.html#returning-a-view-versus-a-copy\n",
      "  df_curto['setor_economico'] = df_curto['setor_economico'].cat.rename_categories({\n",
      "C:\\Users\\Danilo\\AppData\\Local\\Temp\\ipykernel_19380\\735382265.py:11: SettingWithCopyWarning: \n",
      "A value is trying to be set on a copy of a slice from a DataFrame.\n",
      "Try using .loc[row_indexer,col_indexer] = value instead\n",
      "\n",
      "See the caveats in the documentation: https://pandas.pydata.org/pandas-docs/stable/user_guide/indexing.html#returning-a-view-versus-a-copy\n",
      "  df_curto['mercado_relevante'] = df_curto['mercado_relevante'].cat.rename_categories({\n"
     ]
    }
   ],
   "source": [
    "df_curto['decisao_tribunal'] = df_curto['decisao_tribunal'].cat.rename_categories({\n",
    "    'Condenação': 'condenacao',\n",
    "    'Arquivamento': 'arquivamento',\n",
    "    '': 'vazio'\n",
    "})\n",
    "\n",
    "df_curto['setor_economico'] = df_curto['setor_economico'].cat.rename_categories({\n",
    "    '': 'vazio'\n",
    "})\n",
    "\n",
    "df_curto['mercado_relevante'] = df_curto['mercado_relevante'].cat.rename_categories({\n",
    "    '': 'vazio'\n",
    "})"
   ]
  },
  {
   "cell_type": "markdown",
   "id": "bc1ce42c",
   "metadata": {},
   "source": [
    "Melhorando a informação sobre o setor economico:\n",
    "\n",
    "Afim de ter dados mais interessantes para o modelo preditivo, vamos transformar os setores economicos para uma nova coluna que se refere a quantas vezes esse setor economico aparece durante a base de dados podendo assim analisar uma correlação entre a quantidade de vezes que um setor economico específico aparece em processos com as condenações nos processos"
   ]
  },
  {
   "cell_type": "code",
   "execution_count": 23,
   "id": "10d82a3e",
   "metadata": {},
   "outputs": [],
   "source": [
    "#Reseta index para modelo rodar semerros\n",
    "df_curto = df_curto.reset_index(drop=True)\n",
    "\n",
    "pipeline = create_pipeline(6)\n",
    "df_curto['setor_economico'] = df_curto['setor_economico'].astype(str)\n",
    "df_curto['grupo_economico'] = pipeline.fit_transform(df_curto[['setor_economico']])"
   ]
  },
  {
   "cell_type": "code",
   "execution_count": 24,
   "id": "9c17abe7",
   "metadata": {},
   "outputs": [],
   "source": [
    "# Configurar encoder\n",
    "encoder = RareLabelEncoder(\n",
    "    tol=0.01,               # Threshold de 10%\n",
    "    n_categories=5,         # Aplica apenas se variável tiver >=5 categorias\n",
    "    replace_with='Rare',    # Nome da nova categoria\n",
    "    variables=['setor_economico'],  # Especificar coluna\n",
    "    missing_values='ignore' # Trata valores faltantes\n",
    ")\n",
    "\n",
    "# Treinar e transformar\n",
    "encoder.fit(df_curto)\n",
    "df_curto = encoder.transform(df_curto)"
   ]
  },
  {
   "cell_type": "code",
   "execution_count": 25,
   "id": "e7882e5b",
   "metadata": {},
   "outputs": [
    {
     "name": "stdout",
     "output_type": "stream",
     "text": [
      "Index(['id', 'ano_documento', 'assinaturas', 'descricao_tipo_documento',\n",
      "       'decisao_tribunal', 'setor_economico', 'id_unidade', 'data_processo',\n",
      "       'data_documento', 'diferenca_dias', 'mercado_relevante',\n",
      "       'descricao_especificacao', 'conteudo', 'grupo_economico'],\n",
      "      dtype='object')\n"
     ]
    }
   ],
   "source": [
    "print(df_curto.columns)\n"
   ]
  },
  {
   "cell_type": "code",
   "execution_count": 26,
   "id": "9ce6207f",
   "metadata": {},
   "outputs": [],
   "source": [
    "#organizando ordem das colunas:\n",
    "colunas = [ 'id', 'ano_documento','descricao_tipo_documento','decisao_tribunal', \n",
    "            'setor_economico', 'grupo_economico','data_processo','data_documento',\n",
    "            'diferenca_dias', 'assinaturas', 'id_unidade',\n",
    "            'mercado_relevante','descricao_especificacao', 'conteudo']\n",
    "\n",
    "df_final = df_curto[colunas]"
   ]
  },
  {
   "cell_type": "code",
   "execution_count": 27,
   "id": "55d764f2",
   "metadata": {},
   "outputs": [
    {
     "data": {
      "text/html": [
       "<div>\n",
       "<style scoped>\n",
       "    .dataframe tbody tr th:only-of-type {\n",
       "        vertical-align: middle;\n",
       "    }\n",
       "\n",
       "    .dataframe tbody tr th {\n",
       "        vertical-align: top;\n",
       "    }\n",
       "\n",
       "    .dataframe thead th {\n",
       "        text-align: right;\n",
       "    }\n",
       "</style>\n",
       "<table border=\"1\" class=\"dataframe\">\n",
       "  <thead>\n",
       "    <tr style=\"text-align: right;\">\n",
       "      <th></th>\n",
       "      <th>id</th>\n",
       "      <th>ano_documento</th>\n",
       "      <th>descricao_tipo_documento</th>\n",
       "      <th>decisao_tribunal</th>\n",
       "      <th>setor_economico</th>\n",
       "      <th>grupo_economico</th>\n",
       "      <th>data_processo</th>\n",
       "      <th>data_documento</th>\n",
       "      <th>diferenca_dias</th>\n",
       "      <th>assinaturas</th>\n",
       "      <th>id_unidade</th>\n",
       "      <th>mercado_relevante</th>\n",
       "      <th>descricao_especificacao</th>\n",
       "      <th>conteudo</th>\n",
       "    </tr>\n",
       "  </thead>\n",
       "  <tbody>\n",
       "    <tr>\n",
       "      <th>0</th>\n",
       "      <td>abbdc450-7ff1-4990-9bcc-8ae4386592f0</td>\n",
       "      <td>2024</td>\n",
       "      <td>Voto Processo Administrativo</td>\n",
       "      <td>vazio</td>\n",
       "      <td>Fabricação de Peças e Acessórios para o Sistema Motor de Veículos Automotores</td>\n",
       "      <td>0</td>\n",
       "      <td>2019-09-13</td>\n",
       "      <td>2024-05-23</td>\n",
       "      <td>1714</td>\n",
       "      <td>Outras</td>\n",
       "      <td>110000967.0</td>\n",
       "      <td>pistões de motor, bronzinas, camisas, pinos, bielas, porta anéis, anéis e juntas de vedação, e a...</td>\n",
       "      <td>- Desmembrado  Bernd Brünig, Faustino Luigi Minchella e José Angel Viani Barroyeta</td>\n",
       "      <td>SEI/CADE - 1390607 - Voto Processo Administrativo\\n\\n\\nProcesso Administrativo nº 08700.004558/2...</td>\n",
       "    </tr>\n",
       "    <tr>\n",
       "      <th>1</th>\n",
       "      <td>b41e8f1f-449e-4d28-a574-18f365d32b6f</td>\n",
       "      <td>2024</td>\n",
       "      <td>Voto Processo Administrativo</td>\n",
       "      <td>condenacao</td>\n",
       "      <td>Rare</td>\n",
       "      <td>0</td>\n",
       "      <td>2015-05-21</td>\n",
       "      <td>2024-05-09</td>\n",
       "      <td>3276</td>\n",
       "      <td>Gustavo Augusto Freitas de Lima</td>\n",
       "      <td>110000969.0</td>\n",
       "      <td>Mercado imobiliário</td>\n",
       "      <td>Influencia de conduta uniforme - COFECI</td>\n",
       "      <td>SEI/CADE - 1384594 - Voto Processo Administrativo\\n\\n\\nPedido de Reapreciação no Processo Admini...</td>\n",
       "    </tr>\n",
       "    <tr>\n",
       "      <th>2</th>\n",
       "      <td>adec625d-4f5e-4514-b938-a295fdc1e8a4</td>\n",
       "      <td>2024</td>\n",
       "      <td>Voto</td>\n",
       "      <td>arquivamento</td>\n",
       "      <td>Rare</td>\n",
       "      <td>0</td>\n",
       "      <td>2022-08-08</td>\n",
       "      <td>2024-05-09</td>\n",
       "      <td>640</td>\n",
       "      <td>Outras</td>\n",
       "      <td>110001021.0</td>\n",
       "      <td>Postos de gasolina</td>\n",
       "      <td>Ministério Público do Estado de Minas Gerais</td>\n",
       "      <td>SEI/CADE - 1384685 - Voto\\n\\n\\nProcesso nº 08700.005915/2022-40\\r\\n\\r\\nRepresentante: Cade ex of...</td>\n",
       "    </tr>\n",
       "    <tr>\n",
       "      <th>3</th>\n",
       "      <td>c8499708-5778-45d9-8914-9ab97b77c1fd</td>\n",
       "      <td>2024</td>\n",
       "      <td>Voto Processo Administrativo</td>\n",
       "      <td>condenacao</td>\n",
       "      <td>Construção de Edifícios# Construção de Rodovias e Ferrovias</td>\n",
       "      <td>0</td>\n",
       "      <td>2016-11-22</td>\n",
       "      <td>2024-04-23</td>\n",
       "      <td>2709</td>\n",
       "      <td>Alexandre Cordeiro Macedo</td>\n",
       "      <td>110000955.0</td>\n",
       "      <td>obras de engenharia civil# Construção de infraestrutura de rodovias e ferrovias</td>\n",
       "      <td>PAC Favelas - AL 09/2016 - Favelas</td>\n",
       "      <td>SEI/CADE - 1377990 - Voto Processo Administrativo\\n\\n\\nProcesso Administrativo nº 08700.007776/2...</td>\n",
       "    </tr>\n",
       "    <tr>\n",
       "      <th>4</th>\n",
       "      <td>29758e3d-7047-4c5a-8ac6-b6815c67ec3d</td>\n",
       "      <td>2024</td>\n",
       "      <td>Voto Processo Administrativo</td>\n",
       "      <td>condenacao</td>\n",
       "      <td>Construção de Edifícios# Construção de Rodovias e Ferrovias</td>\n",
       "      <td>0</td>\n",
       "      <td>2016-11-22</td>\n",
       "      <td>2024-04-23</td>\n",
       "      <td>2709</td>\n",
       "      <td>Gustavo Augusto Freitas de Lima</td>\n",
       "      <td>110000969.0</td>\n",
       "      <td>obras de engenharia civil# Construção de infraestrutura de rodovias e ferrovias</td>\n",
       "      <td>PAC Favelas - AL 09/2016 - Favelas</td>\n",
       "      <td>SEI/CADE - 1377023 - Voto Processo Administrativo\\n\\n\\nProcesso Administrativo nº 08700.007776/2...</td>\n",
       "    </tr>\n",
       "  </tbody>\n",
       "</table>\n",
       "</div>"
      ],
      "text/plain": [
       "                                     id  ano_documento  \\\n",
       "0  abbdc450-7ff1-4990-9bcc-8ae4386592f0           2024   \n",
       "1  b41e8f1f-449e-4d28-a574-18f365d32b6f           2024   \n",
       "2  adec625d-4f5e-4514-b938-a295fdc1e8a4           2024   \n",
       "3  c8499708-5778-45d9-8914-9ab97b77c1fd           2024   \n",
       "4  29758e3d-7047-4c5a-8ac6-b6815c67ec3d           2024   \n",
       "\n",
       "       descricao_tipo_documento decisao_tribunal  \\\n",
       "0  Voto Processo Administrativo            vazio   \n",
       "1  Voto Processo Administrativo       condenacao   \n",
       "2                          Voto     arquivamento   \n",
       "3  Voto Processo Administrativo       condenacao   \n",
       "4  Voto Processo Administrativo       condenacao   \n",
       "\n",
       "                                                                 setor_economico  \\\n",
       "0  Fabricação de Peças e Acessórios para o Sistema Motor de Veículos Automotores   \n",
       "1                                                                           Rare   \n",
       "2                                                                           Rare   \n",
       "3                    Construção de Edifícios# Construção de Rodovias e Ferrovias   \n",
       "4                    Construção de Edifícios# Construção de Rodovias e Ferrovias   \n",
       "\n",
       "   grupo_economico data_processo data_documento  diferenca_dias  \\\n",
       "0                0    2019-09-13     2024-05-23            1714   \n",
       "1                0    2015-05-21     2024-05-09            3276   \n",
       "2                0    2022-08-08     2024-05-09             640   \n",
       "3                0    2016-11-22     2024-04-23            2709   \n",
       "4                0    2016-11-22     2024-04-23            2709   \n",
       "\n",
       "                       assinaturas   id_unidade  \\\n",
       "0                           Outras  110000967.0   \n",
       "1  Gustavo Augusto Freitas de Lima  110000969.0   \n",
       "2                           Outras  110001021.0   \n",
       "3        Alexandre Cordeiro Macedo  110000955.0   \n",
       "4  Gustavo Augusto Freitas de Lima  110000969.0   \n",
       "\n",
       "                                                                                     mercado_relevante  \\\n",
       "0  pistões de motor, bronzinas, camisas, pinos, bielas, porta anéis, anéis e juntas de vedação, e a...   \n",
       "1                                                                                  Mercado imobiliário   \n",
       "2                                                                                   Postos de gasolina   \n",
       "3                      obras de engenharia civil# Construção de infraestrutura de rodovias e ferrovias   \n",
       "4                      obras de engenharia civil# Construção de infraestrutura de rodovias e ferrovias   \n",
       "\n",
       "                                                              descricao_especificacao  \\\n",
       "0  - Desmembrado  Bernd Brünig, Faustino Luigi Minchella e José Angel Viani Barroyeta   \n",
       "1                                             Influencia de conduta uniforme - COFECI   \n",
       "2                                        Ministério Público do Estado de Minas Gerais   \n",
       "3                                                  PAC Favelas - AL 09/2016 - Favelas   \n",
       "4                                                  PAC Favelas - AL 09/2016 - Favelas   \n",
       "\n",
       "                                                                                              conteudo  \n",
       "0  SEI/CADE - 1390607 - Voto Processo Administrativo\\n\\n\\nProcesso Administrativo nº 08700.004558/2...  \n",
       "1  SEI/CADE - 1384594 - Voto Processo Administrativo\\n\\n\\nPedido de Reapreciação no Processo Admini...  \n",
       "2  SEI/CADE - 1384685 - Voto\\n\\n\\nProcesso nº 08700.005915/2022-40\\r\\n\\r\\nRepresentante: Cade ex of...  \n",
       "3  SEI/CADE - 1377990 - Voto Processo Administrativo\\n\\n\\nProcesso Administrativo nº 08700.007776/2...  \n",
       "4  SEI/CADE - 1377023 - Voto Processo Administrativo\\n\\n\\nProcesso Administrativo nº 08700.007776/2...  "
      ]
     },
     "metadata": {},
     "output_type": "display_data"
    },
    {
     "name": "stdout",
     "output_type": "stream",
     "text": [
      "(908, 14)\n"
     ]
    }
   ],
   "source": [
    "pd.set_option('display.max_colwidth', 100)\n",
    "display(df_final.head(5))\n",
    "print(df_final.shape)"
   ]
  },
  {
   "cell_type": "markdown",
   "id": "a7272bd0",
   "metadata": {},
   "source": [
    "# Modelo preditivo:\n",
    "\n",
    "#### Aqui será montado um modelo preditivo para fazer inferencias a partir de características do caso e prever a condenação ou não desse processo"
   ]
  }
 ],
 "metadata": {
  "kernelspec": {
   "display_name": "base",
   "language": "python",
   "name": "python3"
  },
  "language_info": {
   "codemirror_mode": {
    "name": "ipython",
    "version": 3
   },
   "file_extension": ".py",
   "mimetype": "text/x-python",
   "name": "python",
   "nbconvert_exporter": "python",
   "pygments_lexer": "ipython3",
   "version": "3.11.5"
  }
 },
 "nbformat": 4,
 "nbformat_minor": 5
}
