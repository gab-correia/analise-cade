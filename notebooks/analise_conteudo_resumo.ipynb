{
 "cells": [
  {
   "cell_type": "markdown",
   "id": "3e793f4f",
   "metadata": {},
   "source": [
    "Com a coluna conteudo resumida"
   ]
  },
  {
   "cell_type": "code",
   "execution_count": null,
   "id": "a9bdbf56",
   "metadata": {},
   "outputs": [],
   "source": [
    "import pandas as pd\n",
    "df_final = pd.read_csv(\"../dados/df_limpo.csv\")"
   ]
  },
  {
   "cell_type": "markdown",
   "id": "cbec6997",
   "metadata": {},
   "source": [
    "Extrair informações importantes de texto"
   ]
  },
  {
   "cell_type": "markdown",
   "id": "f2a02c69",
   "metadata": {},
   "source": [
    "Limite de tokens: Gemini 1.5 Flash suporta até 1 milhão de tokens contextuais, mas é mais rápido e mais barato com textos curtos. Se o documento for muito longo, divida em trechos.\n",
    "\n",
    "Prompt estruturado = melhor resultado: Use listas, marcadores e perguntas diretas.\n",
    "\n",
    "Padronize o input: Remova cabeçalhos, assinaturas ou trechos irrelevantes.\n",
    "\n",
    "Verifique consistência: LLMs podem gerar variações. Se precisar de formato JSON, peça explicitamente."
   ]
  },
  {
   "cell_type": "code",
   "execution_count": 14,
   "id": "20c8a831",
   "metadata": {},
   "outputs": [],
   "source": [
    "import os, json\n",
    "import pandas as pd\n",
    "from dotenv import load_dotenv\n",
    "from tqdm.auto import tqdm\n",
    "import google.generativeai as genai\n",
    "\n",
    "load_dotenv()\n",
    "API_KEY = os.getenv(\"GOOGLE_API_KEY\")\n",
    "\n",
    "# Configura o Gemini\n",
    "genai.configure(api_key=API_KEY)\n",
    "modelo = genai.GenerativeModel(\n",
    "    \"gemini-1.5-flash\",\n",
    "    generation_config={\"temperature\": 0.1}  \n",
    ")\n",
    "\n"
   ]
  },
  {
   "cell_type": "code",
   "execution_count": 15,
   "id": "79b9e525",
   "metadata": {},
   "outputs": [],
   "source": [
    "# ---------------------------------------------------------------\n",
    "# 1. Função de limpeza do JSON\n",
    "# ---------------------------------------------------------------\n",
    "def _json_limpo(resposta):\n",
    "    \"\"\"Isola o bloco JSON e converte em dict.\"\"\"\n",
    "    resposta = resposta.strip()\n",
    "    bloco = resposta[resposta.find(\"{\"): resposta.rfind(\"}\") + 1]\n",
    "    return json.loads(bloco)\n",
    "\n",
    "# ---------------------------------------------------------------\n",
    "# 2. Prompt fixo + extrair_info\n",
    "# ---------------------------------------------------------------\n",
    "_PROMPT = \"\"\"\n",
    "Devolva apenas JSON com as chaves e tipos abaixo, usando null onde faltar:\n",
    "\n",
    "{{\n",
    "  \"valor_multa_reais\": float|null,\n",
    "  \"tipo_infracao_concorrencial\": string|null,\n",
    "  \"seguiu_nota_tecnica\": true|false,\n",
    "  \"houve_condenacao\": true|false,\n",
    "  \"tipo_decisao\": string|null,\n",
    "  \"houve_acordo\": true|false,\n",
    "  \"reincidencia\": true|false,\n",
    "}}\n",
    "\n",
    "TEXTO:\n",
    "\\\"\\\"\\\"{texto}\\\"\\\"\\\"\n",
    "\"\"\"\n",
    "\n",
    "def extrair_info(texto):\n",
    "    \"\"\"Executa o prompt no Gemini e devolve dict com 21 campos.\"\"\"\n",
    "    resposta = modelo.generate_content(_PROMPT.format(texto=texto))\n",
    "    return _json_limpo(resposta.text)\n",
    "\n"
   ]
  },
  {
   "cell_type": "code",
   "execution_count": 16,
   "id": "2e80bb44",
   "metadata": {},
   "outputs": [
    {
     "data": {
      "text/plain": [
       "{'valor_multa_reais': 324116.21,\n",
       " 'tipo_infracao_concorrencial': 'cartel de peças automotivas',\n",
       " 'seguiu_nota_tecnica': True,\n",
       " 'houve_condenacao': True,\n",
       " 'tipo_decisao': 'Condenação parcial com imposição de multa pecuniária',\n",
       " 'houve_acordo': True,\n",
       " 'reincidencia': False}"
      ]
     },
     "execution_count": 16,
     "metadata": {},
     "output_type": "execute_result"
    }
   ],
   "source": [
    "a= df_final['resumo'].iloc[0]\n",
    "extrair_info(a)"
   ]
  },
  {
   "cell_type": "code",
   "execution_count": 17,
   "id": "9559f672",
   "metadata": {},
   "outputs": [
    {
     "data": {
      "text/plain": [
       "{'valor_multa_reais': 324116.21,\n",
       " 'tipo_infracao_concorrencial': 'cartel de peças automotivas',\n",
       " 'seguiu_nota_tecnica': True,\n",
       " 'houve_condenacao': True,\n",
       " 'tipo_decisao': 'Condenação parcial com imposição de multa pecuniária',\n",
       " 'houve_acordo': True,\n",
       " 'reincidencia': False}"
      ]
     },
     "execution_count": 17,
     "metadata": {},
     "output_type": "execute_result"
    }
   ],
   "source": [
    "a= df_final['conteudo'].iloc[0]\n",
    "extrair_info(a)"
   ]
  },
  {
   "cell_type": "code",
   "execution_count": 18,
   "id": "64685610",
   "metadata": {},
   "outputs": [
    {
     "data": {
      "text/html": [
       "<div>\n",
       "<style scoped>\n",
       "    .dataframe tbody tr th:only-of-type {\n",
       "        vertical-align: middle;\n",
       "    }\n",
       "\n",
       "    .dataframe tbody tr th {\n",
       "        vertical-align: top;\n",
       "    }\n",
       "\n",
       "    .dataframe thead th {\n",
       "        text-align: right;\n",
       "    }\n",
       "</style>\n",
       "<table border=\"1\" class=\"dataframe\">\n",
       "  <thead>\n",
       "    <tr style=\"text-align: right;\">\n",
       "      <th></th>\n",
       "      <th>id</th>\n",
       "      <th>ano_documento</th>\n",
       "      <th>assinaturas</th>\n",
       "      <th>descricao_tipo_documento</th>\n",
       "      <th>decisao_tribunal</th>\n",
       "      <th>setor_economico</th>\n",
       "      <th>id_unidade</th>\n",
       "      <th>data_processo</th>\n",
       "      <th>data_documento</th>\n",
       "      <th>diferenca_dias</th>\n",
       "      <th>mercado_relevante</th>\n",
       "      <th>descricao_especificacao</th>\n",
       "      <th>conteudo</th>\n",
       "      <th>resumo</th>\n",
       "    </tr>\n",
       "  </thead>\n",
       "  <tbody>\n",
       "    <tr>\n",
       "      <th>0</th>\n",
       "      <td>abbdc450-7ff1-4990-9bcc-8ae4386592f0</td>\n",
       "      <td>2024</td>\n",
       "      <td>Outras</td>\n",
       "      <td>Voto Processo Administrativo</td>\n",
       "      <td>vazio</td>\n",
       "      <td>Fabricação de Peças e Acessórios para o Sistem...</td>\n",
       "      <td>110000967.0</td>\n",
       "      <td>2019-09-13</td>\n",
       "      <td>2024-05-23</td>\n",
       "      <td>1714</td>\n",
       "      <td>pistões de motor, bronzinas, camisas, pinos, b...</td>\n",
       "      <td>- Desmembrado  Bernd Brünig, Faustino Luigi Mi...</td>\n",
       "      <td>SEI/CADE - 1390607 - Voto Processo Administrat...</td>\n",
       "      <td>['\\nREPRESENTADOS(AS): BERND BRÜNIG, FAUSTINO ...</td>\n",
       "    </tr>\n",
       "    <tr>\n",
       "      <th>1</th>\n",
       "      <td>b41e8f1f-449e-4d28-a574-18f365d32b6f</td>\n",
       "      <td>2024</td>\n",
       "      <td>Gustavo Augusto Freitas de Lima</td>\n",
       "      <td>Voto Processo Administrativo</td>\n",
       "      <td>condenacao</td>\n",
       "      <td>Gestão e Administração da Propriedade Imobiliária</td>\n",
       "      <td>110000969.0</td>\n",
       "      <td>2015-05-21</td>\n",
       "      <td>2024-05-09</td>\n",
       "      <td>3276</td>\n",
       "      <td>Mercado imobiliário</td>\n",
       "      <td>Influencia de conduta uniforme - COFECI</td>\n",
       "      <td>SEI/CADE - 1384594 - Voto Processo Administrat...</td>\n",
       "      <td>['\\nNOS TERMOS DO VOTO RECORRIDO, ESTE TRIBUNA...</td>\n",
       "    </tr>\n",
       "  </tbody>\n",
       "</table>\n",
       "</div>"
      ],
      "text/plain": [
       "                                     id  ano_documento  \\\n",
       "0  abbdc450-7ff1-4990-9bcc-8ae4386592f0           2024   \n",
       "1  b41e8f1f-449e-4d28-a574-18f365d32b6f           2024   \n",
       "\n",
       "                       assinaturas      descricao_tipo_documento  \\\n",
       "0                           Outras  Voto Processo Administrativo   \n",
       "1  Gustavo Augusto Freitas de Lima  Voto Processo Administrativo   \n",
       "\n",
       "  decisao_tribunal                                    setor_economico  \\\n",
       "0            vazio  Fabricação de Peças e Acessórios para o Sistem...   \n",
       "1       condenacao  Gestão e Administração da Propriedade Imobiliária   \n",
       "\n",
       "    id_unidade data_processo data_documento  diferenca_dias  \\\n",
       "0  110000967.0    2019-09-13     2024-05-23            1714   \n",
       "1  110000969.0    2015-05-21     2024-05-09            3276   \n",
       "\n",
       "                                   mercado_relevante  \\\n",
       "0  pistões de motor, bronzinas, camisas, pinos, b...   \n",
       "1                                Mercado imobiliário   \n",
       "\n",
       "                             descricao_especificacao  \\\n",
       "0  - Desmembrado  Bernd Brünig, Faustino Luigi Mi...   \n",
       "1            Influencia de conduta uniforme - COFECI   \n",
       "\n",
       "                                            conteudo  \\\n",
       "0  SEI/CADE - 1390607 - Voto Processo Administrat...   \n",
       "1  SEI/CADE - 1384594 - Voto Processo Administrat...   \n",
       "\n",
       "                                              resumo  \n",
       "0  ['\\nREPRESENTADOS(AS): BERND BRÜNIG, FAUSTINO ...  \n",
       "1  ['\\nNOS TERMOS DO VOTO RECORRIDO, ESTE TRIBUNA...  "
      ]
     },
     "execution_count": 18,
     "metadata": {},
     "output_type": "execute_result"
    }
   ],
   "source": [
    "df_final.head(2)"
   ]
  },
  {
   "cell_type": "code",
   "execution_count": 19,
   "id": "154d0bfb",
   "metadata": {},
   "outputs": [
    {
     "data": {
      "text/plain": [
       "{'valor_multa_reais': 100000.0,\n",
       " 'tipo_infracao_concorrencial': 'imposição de cumprimento de tabela de preços',\n",
       " 'seguiu_nota_tecnica': True,\n",
       " 'houve_condenacao': True,\n",
       " 'tipo_decisao': 'manutenção da condenação',\n",
       " 'houve_acordo': True,\n",
       " 'reincidencia': False}"
      ]
     },
     "execution_count": 19,
     "metadata": {},
     "output_type": "execute_result"
    }
   ],
   "source": [
    "a= df_final['resumo'].iloc[1]\n",
    "extrair_info(a)"
   ]
  },
  {
   "cell_type": "code",
   "execution_count": 20,
   "id": "fe5677a5",
   "metadata": {},
   "outputs": [
    {
     "data": {
      "text/plain": [
       "{'valor_multa_reais': 100000.0,\n",
       " 'tipo_infracao_concorrencial': 'Imposição de tabela de preços mínimos',\n",
       " 'seguiu_nota_tecnica': True,\n",
       " 'houve_condenacao': True,\n",
       " 'tipo_decisao': 'Nego provimento',\n",
       " 'houve_acordo': True,\n",
       " 'reincidencia': True}"
      ]
     },
     "execution_count": 20,
     "metadata": {},
     "output_type": "execute_result"
    }
   ],
   "source": [
    "a= df_final['conteudo'].iloc[1]\n",
    "extrair_info(a)"
   ]
  },
  {
   "cell_type": "code",
   "execution_count": 21,
   "id": "d5d99767",
   "metadata": {},
   "outputs": [
    {
     "data": {
      "text/plain": [
       "{'valor_multa_reais': None,\n",
       " 'tipo_infracao_concorrencial': 'cartel no mercado de revenda de combustíveis',\n",
       " 'seguiu_nota_tecnica': True,\n",
       " 'houve_condenacao': False,\n",
       " 'tipo_decisao': 'arquivamento',\n",
       " 'houve_acordo': False,\n",
       " 'reincidencia': False}"
      ]
     },
     "execution_count": 21,
     "metadata": {},
     "output_type": "execute_result"
    }
   ],
   "source": [
    "a= df_final['resumo'].iloc[2]\n",
    "extrair_info(a)"
   ]
  },
  {
   "cell_type": "code",
   "execution_count": 22,
   "id": "3655c51c",
   "metadata": {},
   "outputs": [
    {
     "name": "stdout",
     "output_type": "stream",
     "text": [
      "Requirement already satisfied: ace_tools in c:\\users\\danilo\\anaconda3\\lib\\site-packages (0.0)\n"
     ]
    }
   ],
   "source": [
    "!pip install ace_tools"
   ]
  },
  {
   "cell_type": "code",
   "execution_count": 23,
   "id": "789b99fb",
   "metadata": {},
   "outputs": [
    {
     "ename": "ModuleNotFoundError",
     "evalue": "No module named 'ace_tools'",
     "output_type": "error",
     "traceback": [
      "\u001b[1;31m---------------------------------------------------------------------------\u001b[0m",
      "\u001b[1;31mModuleNotFoundError\u001b[0m                       Traceback (most recent call last)",
      "Cell \u001b[1;32mIn[23], line 2\u001b[0m\n\u001b[0;32m      1\u001b[0m \u001b[38;5;28;01mimport\u001b[39;00m \u001b[38;5;21;01mpandas\u001b[39;00m \u001b[38;5;28;01mas\u001b[39;00m \u001b[38;5;21;01mpd\u001b[39;00m\n\u001b[1;32m----> 2\u001b[0m \u001b[38;5;28;01mimport\u001b[39;00m \u001b[38;5;21;01mace_tools\u001b[39;00m \u001b[38;5;28;01mas\u001b[39;00m \u001b[38;5;21;01mtools\u001b[39;00m\n\u001b[0;32m      4\u001b[0m \u001b[38;5;66;03m# Define the column names and their descriptions\u001b[39;00m\n\u001b[0;32m      5\u001b[0m columns_with_descriptions \u001b[38;5;241m=\u001b[39m {\n\u001b[0;32m      6\u001b[0m     \u001b[38;5;124m\"\u001b[39m\u001b[38;5;124mvalor_multa_reais\u001b[39m\u001b[38;5;124m\"\u001b[39m: \u001b[38;5;124m\"\u001b[39m\u001b[38;5;124mValor da multa aplicada em reais (float).\u001b[39m\u001b[38;5;124m\"\u001b[39m,\n\u001b[0;32m      7\u001b[0m     \u001b[38;5;124m\"\u001b[39m\u001b[38;5;124mpercentual_faturamento\u001b[39m\u001b[38;5;124m\"\u001b[39m: \u001b[38;5;124m\"\u001b[39m\u001b[38;5;124mMulta como percentual do faturamento da empresa (\u001b[39m\u001b[38;5;124m%\u001b[39m\u001b[38;5;124m).\u001b[39m\u001b[38;5;124m\"\u001b[39m,\n\u001b[1;32m   (...)\u001b[0m\n\u001b[0;32m     26\u001b[0m     \u001b[38;5;124m\"\u001b[39m\u001b[38;5;124mdocumento_origem\u001b[39m\u001b[38;5;124m\"\u001b[39m: \u001b[38;5;124m\"\u001b[39m\u001b[38;5;124mLink ou identificador do documento de origem.\u001b[39m\u001b[38;5;124m\"\u001b[39m\n\u001b[0;32m     27\u001b[0m }\n",
      "\u001b[1;31mModuleNotFoundError\u001b[0m: No module named 'ace_tools'"
     ]
    }
   ],
   "source": [
    "import pandas as pd\n",
    "import ace_tools as tools\n",
    "\n",
    "# Define the column names and their descriptions\n",
    "columns_with_descriptions = {\n",
    "    \"valor_multa_reais\": \"Valor da multa aplicada em reais (float).\",\n",
    "    \"percentual_faturamento\": \"Multa como percentual do faturamento da empresa (%).\",\n",
    "    \"numero_multas\": \"Quantidade total de multas aplicadas na decisão.\",\n",
    "    \"setor_padronizado\": \"Setor econômico ao qual a empresa pertence (ex: saúde, financeiro).\",\n",
    "    \"quantidade_conselheiros\": \"Número total de conselheiros que votaram.\",\n",
    "    \"votos_favoraveis\": \"Número de votos favoráveis à condenação.\",\n",
    "    \"votos_contrarios\": \"Número de votos contrários à condenação.\",\n",
    "    \"voto_vencedor\": \"Resultado do voto vencedor (ex: condenação, arquivamento).\",\n",
    "    \"tipo_infracao_concorrencial\": \"Tipo da infração (ex: cartel, abuso de posição dominante).\",\n",
    "    \"seguiu_nota_tecnica\": \"Indica se a decisão seguiu a nota técnica (True/False).\",\n",
    "    \"tempo_processual_dias\": \"Tempo total do processo em dias.\",\n",
    "    \"houve_condenacao\": \"Indica se houve condenação na decisão (True/False).\",\n",
    "    \"tipo_decisao\": \"Classificação da decisão (ex: condenação, arquivamento, acordo).\",\n",
    "    \"houve_acordo\": \"Indica se houve acordo como TCC (True/False).\",\n",
    "    \"empresa_envolvida\": \"Nome da(s) empresa(s) envolvida(s).\",\n",
    "    \"porte_empresa\": \"Porte da empresa (ex: micro, pequena, média, grande).\",\n",
    "    \"relator_voto\": \"Nome do conselheiro relator do processo.\",\n",
    "    \"ano_decisao\": \"Ano da decisão final.\",\n",
    "    \"reincidencia\": \"Indica se a empresa é reincidente (True/False).\",\n",
    "    \"descricao_fatos_relevantes\": \"Resumo dos fatos relevantes do caso.\",\n",
    "    \"documento_origem\": \"Link ou identificador do documento de origem.\"\n",
    "}\n",
    "\n",
    "# Create an empty DataFrame with these columns\n",
    "df = pd.DataFrame(columns=columns_with_descriptions.keys())\n",
    "\n",
    "tools.display_dataframe_to_user(name=\"CADE_Analise_Variaveis\", dataframe=df)\n"
   ]
  }
 ],
 "metadata": {
  "kernelspec": {
   "display_name": "base",
   "language": "python",
   "name": "python3"
  },
  "language_info": {
   "codemirror_mode": {
    "name": "ipython",
    "version": 3
   },
   "file_extension": ".py",
   "mimetype": "text/x-python",
   "name": "python",
   "nbconvert_exporter": "python",
   "pygments_lexer": "ipython3",
   "version": "3.11.5"
  }
 },
 "nbformat": 4,
 "nbformat_minor": 5
}
