{
 "cells": [
  {
   "cell_type": "markdown",
   "id": "3e793f4f",
   "metadata": {},
   "source": [
    "Com a coluna conteudo resumida"
   ]
  },
  {
   "cell_type": "code",
   "execution_count": 2,
   "id": "a9bdbf56",
   "metadata": {},
   "outputs": [],
   "source": [
    "import pandas as pd\n",
    "df_final = pd.read_csv(\"../dados/df_final.csv\")"
   ]
  },
  {
   "cell_type": "markdown",
   "id": "cbec6997",
   "metadata": {},
   "source": [
    "Extrair informações importantes de texto"
   ]
  },
  {
   "cell_type": "markdown",
   "id": "f2a02c69",
   "metadata": {},
   "source": [
    "Limite de tokens: Gemini 1.5 Flash suporta até 1 milhão de tokens contextuais, mas é mais rápido e mais barato com textos curtos. Se o documento for muito longo, divida em trechos.\n",
    "\n",
    "Prompt estruturado = melhor resultado: Use listas, marcadores e perguntas diretas.\n",
    "\n",
    "Padronize o input: Remova cabeçalhos, assinaturas ou trechos irrelevantes.\n",
    "\n",
    "Verifique consistência: LLMs podem gerar variações. Se precisar de formato JSON, peça explicitamente."
   ]
  },
  {
   "cell_type": "code",
   "execution_count": null,
   "id": "20c8a831",
   "metadata": {},
   "outputs": [],
   "source": [
    "import os\n",
    "from dotenv import load_dotenv\n",
    "import google.generativeai as genai\n",
    "\n",
    "# Carrega variáveis do .env\n",
    "load_dotenv()\n",
    "API_KEY = os.getenv(\"GOOGLE_API_KEY\")\n",
    "\n",
    "# Configura o Gemini\n",
    "genai.configure(api_key=API_KEY)\n",
    "model = genai.GenerativeModel(\"gemini-1.5-flash\")\n",
    "\n",
    "def extrair_info(texto):\n",
    "    prompt = f\"\"\"\n",
    "    Extraia as seguintes informações do texto abaixo e retorne em formato JSON:\n",
    "\n",
    "    {{\n",
    "      \"tipo_decisao\": \"...\",\n",
    "      \"condenacao\": true,\n",
    "      \"valores_multas\": [\"...\"],\n",
    "      \"seguiu_nota_tecnica\": true\n",
    "    }}\n",
    "\n",
    "    Texto:\n",
    "    \\\"\\\"\\\"{texto}\\\"\\\"\\\"\n",
    "    \"\"\"\n",
    "    response = model.generate_content(prompt)\n",
    "    return response.text"
   ]
  },
  {
   "cell_type": "code",
   "execution_count": 5,
   "id": "154d0bfb",
   "metadata": {},
   "outputs": [
    {
     "data": {
      "text/html": [
       "<div>\n",
       "<style scoped>\n",
       "    .dataframe tbody tr th:only-of-type {\n",
       "        vertical-align: middle;\n",
       "    }\n",
       "\n",
       "    .dataframe tbody tr th {\n",
       "        vertical-align: top;\n",
       "    }\n",
       "\n",
       "    .dataframe thead th {\n",
       "        text-align: right;\n",
       "    }\n",
       "</style>\n",
       "<table border=\"1\" class=\"dataframe\">\n",
       "  <thead>\n",
       "    <tr style=\"text-align: right;\">\n",
       "      <th></th>\n",
       "      <th>id</th>\n",
       "      <th>ano_documento</th>\n",
       "      <th>descricao_tipo_documento</th>\n",
       "      <th>decisao_tribunal</th>\n",
       "      <th>setor_economico</th>\n",
       "      <th>data_processo</th>\n",
       "      <th>data_documento</th>\n",
       "      <th>diferenca_dias</th>\n",
       "      <th>assinaturas</th>\n",
       "      <th>id_unidade</th>\n",
       "      <th>mercado_relevante</th>\n",
       "      <th>descricao_especificacao</th>\n",
       "      <th>conteudo</th>\n",
       "      <th>resumo</th>\n",
       "    </tr>\n",
       "  </thead>\n",
       "  <tbody>\n",
       "    <tr>\n",
       "      <th>0</th>\n",
       "      <td>abbdc450-7ff1-4990-9bcc-8ae4386592f0</td>\n",
       "      <td>2024</td>\n",
       "      <td>Voto Processo Administrativo</td>\n",
       "      <td>vazio</td>\n",
       "      <td>Fabricação de Peças e Acessórios para o Sistem...</td>\n",
       "      <td>2019-09-13</td>\n",
       "      <td>2024-05-23</td>\n",
       "      <td>1714</td>\n",
       "      <td>Outras</td>\n",
       "      <td>110000967.0</td>\n",
       "      <td>pistões de motor, bronzinas, camisas, pinos, b...</td>\n",
       "      <td>- Desmembrado  Bernd Brünig, Faustino Luigi Mi...</td>\n",
       "      <td>SEI/CADE - 1390607 - Voto Processo Administrat...</td>\n",
       "      <td>['\\nREPRESENTADOS(AS): BERND BRÜNIG, FAUSTINO ...</td>\n",
       "    </tr>\n",
       "  </tbody>\n",
       "</table>\n",
       "</div>"
      ],
      "text/plain": [
       "                                     id  ano_documento  \\\n",
       "0  abbdc450-7ff1-4990-9bcc-8ae4386592f0           2024   \n",
       "\n",
       "       descricao_tipo_documento decisao_tribunal  \\\n",
       "0  Voto Processo Administrativo            vazio   \n",
       "\n",
       "                                     setor_economico data_processo  \\\n",
       "0  Fabricação de Peças e Acessórios para o Sistem...    2019-09-13   \n",
       "\n",
       "  data_documento  diferenca_dias assinaturas   id_unidade  \\\n",
       "0     2024-05-23            1714      Outras  110000967.0   \n",
       "\n",
       "                                   mercado_relevante  \\\n",
       "0  pistões de motor, bronzinas, camisas, pinos, b...   \n",
       "\n",
       "                             descricao_especificacao  \\\n",
       "0  - Desmembrado  Bernd Brünig, Faustino Luigi Mi...   \n",
       "\n",
       "                                            conteudo  \\\n",
       "0  SEI/CADE - 1390607 - Voto Processo Administrat...   \n",
       "\n",
       "                                              resumo  \n",
       "0  ['\\nREPRESENTADOS(AS): BERND BRÜNIG, FAUSTINO ...  "
      ]
     },
     "execution_count": 5,
     "metadata": {},
     "output_type": "execute_result"
    }
   ],
   "source": [
    "df_final.head(1)"
   ]
  },
  {
   "cell_type": "code",
   "execution_count": 13,
   "id": "d5d99767",
   "metadata": {},
   "outputs": [
    {
     "data": {
      "text/plain": [
       "'```json\\n{\\n  \"tipo_decisao\": \"Condenação Parcial\",\\n  \"condenacao\": true,\\n  \"valores_multas\": [\"324.116,21\"],\\n  \"seguiu_nota_tecnica\": true\\n}\\n```\\n'"
      ]
     },
     "execution_count": 13,
     "metadata": {},
     "output_type": "execute_result"
    }
   ],
   "source": [
    "df_final['resumo'].iloc[0]\n",
    "extrair_info(df_final['resumo'].iloc[0])"
   ]
  },
  {
   "cell_type": "code",
   "execution_count": null,
   "id": "789b99fb",
   "metadata": {},
   "outputs": [],
   "source": []
  }
 ],
 "metadata": {
  "kernelspec": {
   "display_name": "Python 3",
   "language": "python",
   "name": "python3"
  },
  "language_info": {
   "codemirror_mode": {
    "name": "ipython",
    "version": 3
   },
   "file_extension": ".py",
   "mimetype": "text/x-python",
   "name": "python",
   "nbconvert_exporter": "python",
   "pygments_lexer": "ipython3",
   "version": "3.10.12"
  }
 },
 "nbformat": 4,
 "nbformat_minor": 5
}
