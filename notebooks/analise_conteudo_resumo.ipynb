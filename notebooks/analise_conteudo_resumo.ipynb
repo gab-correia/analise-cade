{
 "cells": [
  {
   "cell_type": "markdown",
   "id": "3e793f4f",
   "metadata": {},
   "source": [
    "Com a coluna conteudo resumida"
   ]
  },
  {
   "cell_type": "code",
   "execution_count": 2,
   "id": "a9bdbf56",
   "metadata": {},
   "outputs": [],
   "source": [
    "import pandas as pd\n",
    "df_final = pd.read_csv(\"../dados/df_final.csv\")"
   ]
  },
  {
   "cell_type": "markdown",
   "id": "cbec6997",
   "metadata": {},
   "source": [
    "Extrair informações importantes de texto"
   ]
  },
  {
   "cell_type": "markdown",
   "id": "f2a02c69",
   "metadata": {},
   "source": [
    "Limite de tokens: Gemini 1.5 Flash suporta até 1 milhão de tokens contextuais, mas é mais rápido e mais barato com textos curtos. Se o documento for muito longo, divida em trechos.\n",
    "\n",
    "Prompt estruturado = melhor resultado: Use listas, marcadores e perguntas diretas.\n",
    "\n",
    "Padronize o input: Remova cabeçalhos, assinaturas ou trechos irrelevantes.\n",
    "\n",
    "Verifique consistência: LLMs podem gerar variações. Se precisar de formato JSON, peça explicitamente."
   ]
  },
  {
   "cell_type": "code",
   "execution_count": null,
   "id": "20c8a831",
   "metadata": {},
   "outputs": [
    {
     "ename": "ImportError",
     "evalue": "cannot import name 'InputOutputText' from 'vertexai.language_models' (/home/gabriel/.local/lib/python3.10/site-packages/vertexai/language_models/__init__.py)",
     "output_type": "error",
     "traceback": [
      "\u001b[0;31m---------------------------------------------------------------------------\u001b[0m",
      "\u001b[0;31mImportError\u001b[0m                               Traceback (most recent call last)",
      "Cell \u001b[0;32mIn[2], line 2\u001b[0m\n\u001b[1;32m      1\u001b[0m \u001b[38;5;28;01mimport\u001b[39;00m \u001b[38;5;21;01mpandas\u001b[39;00m \u001b[38;5;28;01mas\u001b[39;00m \u001b[38;5;21;01mpd\u001b[39;00m\n\u001b[0;32m----> 2\u001b[0m \u001b[38;5;28;01mfrom\u001b[39;00m \u001b[38;5;21;01mvertexai\u001b[39;00m\u001b[38;5;21;01m.\u001b[39;00m\u001b[38;5;21;01mlanguage_models\u001b[39;00m \u001b[38;5;28;01mimport\u001b[39;00m ChatModel, InputOutputText\n\u001b[1;32m      4\u001b[0m \u001b[38;5;66;03m# Supondo que você já tenha configurado a API do Gemini com autenticação\u001b[39;00m\n\u001b[1;32m      5\u001b[0m model \u001b[38;5;241m=\u001b[39m ChatModel\u001b[38;5;241m.\u001b[39mfrom_pretrained(\u001b[38;5;124m\"\u001b[39m\u001b[38;5;124mgemini-1.5-flash\u001b[39m\u001b[38;5;124m\"\u001b[39m)\n",
      "\u001b[0;31mImportError\u001b[0m: cannot import name 'InputOutputText' from 'vertexai.language_models' (/home/gabriel/.local/lib/python3.10/site-packages/vertexai/language_models/__init__.py)"
     ]
    }
   ],
   "source": [
    "import os\n",
    "from dotenv import load_dotenv\n",
    "import google.generativeai as genai\n",
    "\n",
    "# Carrega variáveis do .env\n",
    "load_dotenv()\n",
    "API_KEY = os.getenv(\"GOOGLE_API_KEY\")\n",
    "\n",
    "# Configura o Gemini\n",
    "genai.configure(api_key=API_KEY)\n",
    "model = genai.GenerativeModel(\"gemini-1.5-flash\")\n",
    "\n",
    "def extrair_info(texto):\n",
    "    prompt = f\"\"\"\n",
    "    Extraia as seguintes informações do texto abaixo e retorne em formato JSON:\n",
    "\n",
    "    {{\n",
    "      \"tipo_decisao\": \"...\",\n",
    "      \"condenacao\": true,\n",
    "      \"valores_multas\": [\"...\"],\n",
    "      \"seguiu_nota_tecnica\": true\n",
    "    }}\n",
    "\n",
    "    Texto:\n",
    "    \\\"\\\"\\\"{texto}\\\"\\\"\\\"\n",
    "    \"\"\"\n",
    "    response = model.generate_content(prompt)\n",
    "    return response.text\n"
   ]
  }
 ],
 "metadata": {
  "kernelspec": {
   "display_name": "Python 3",
   "language": "python",
   "name": "python3"
  },
  "language_info": {
   "codemirror_mode": {
    "name": "ipython",
    "version": 3
   },
   "file_extension": ".py",
   "mimetype": "text/x-python",
   "name": "python",
   "nbconvert_exporter": "python",
   "pygments_lexer": "ipython3",
   "version": "3.10.12"
  }
 },
 "nbformat": 4,
 "nbformat_minor": 5
}
