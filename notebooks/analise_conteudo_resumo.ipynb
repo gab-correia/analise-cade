{
 "cells": [
  {
   "cell_type": "markdown",
   "id": "3e793f4f",
   "metadata": {},
   "source": [
    "Com a coluna conteudo resumida"
   ]
  },
  {
   "cell_type": "code",
   "execution_count": null,
   "id": "a9bdbf56",
   "metadata": {},
   "outputs": [],
   "source": [
    "import pandas as pd\n",
    "df_final = pd.read_csv(\"../dados/df_final.csv\")"
   ]
  },
  {
   "cell_type": "markdown",
   "id": "cbec6997",
   "metadata": {},
   "source": [
    "Extrair informações importantes de texto"
   ]
  },
  {
   "cell_type": "markdown",
   "id": "f2a02c69",
   "metadata": {},
   "source": [
    "Limite de tokens: Gemini 1.5 Flash suporta até 1 milhão de tokens contextuais, mas é mais rápido e mais barato com textos curtos. Se o documento for muito longo, divida em trechos.\n",
    "\n",
    "Prompt estruturado = melhor resultado: Use listas, marcadores e perguntas diretas.\n",
    "\n",
    "Padronize o input: Remova cabeçalhos, assinaturas ou trechos irrelevantes.\n",
    "\n",
    "Verifique consistência: LLMs podem gerar variações. Se precisar de formato JSON, peça explicitamente."
   ]
  },
  {
   "cell_type": "code",
   "execution_count": 19,
   "id": "20c8a831",
   "metadata": {},
   "outputs": [],
   "source": [
    "import os, json\n",
    "import pandas as pd\n",
    "from dotenv import load_dotenv\n",
    "from tqdm.auto import tqdm\n",
    "import google.generativeai as genai\n",
    "\n",
    "load_dotenv()\n",
    "API_KEY = os.getenv(\"GOOGLE_API_KEY\")\n",
    "\n",
    "# Configura o Gemini\n",
    "genai.configure(api_key=API_KEY)\n",
    "modelo = genai.GenerativeModel(\n",
    "    \"gemini-1.5-flash\",\n",
    "    generation_config={\"temperature\": 0.1}  \n",
    ")\n",
    "\n"
   ]
  },
  {
   "cell_type": "code",
   "execution_count": 28,
   "id": "79b9e525",
   "metadata": {},
   "outputs": [],
   "source": [
    "# ---------------------------------------------------------------\n",
    "# 1. Função de limpeza do JSON\n",
    "# ---------------------------------------------------------------\n",
    "def _json_limpo(resposta):\n",
    "    \"\"\"Isola o bloco JSON e converte em dict.\"\"\"\n",
    "    resposta = resposta.strip()\n",
    "    bloco = resposta[resposta.find(\"{\"): resposta.rfind(\"}\") + 1]\n",
    "    return json.loads(bloco)\n",
    "\n",
    "# ---------------------------------------------------------------\n",
    "# 2. Prompt fixo + extrair_info\n",
    "# ---------------------------------------------------------------\n",
    "_PROMPT = \"\"\"\n",
    "Devolva apenas JSON com as chaves e tipos abaixo, usando null onde faltar:\n",
    "\n",
    "{{\n",
    "  \"valor_multa_reais\": float|null,\n",
    "  \"tipo_infracao_concorrencial\": string|null,\n",
    "  \"seguiu_nota_tecnica\": true|false,\n",
    "  \"houve_condenacao\": true|false,\n",
    "  \"tipo_decisao\": string|null,\n",
    "  \"houve_acordo\": true|false,\n",
    "  \"reincidencia\": true|false,\n",
    "}}\n",
    "\n",
    "TEXTO:\n",
    "\\\"\\\"\\\"{texto}\\\"\\\"\\\"\n",
    "\"\"\"\n",
    "\n",
    "def extrair_info(texto):\n",
    "    \"\"\"Executa o prompt no Gemini e devolve dict com 21 campos.\"\"\"\n",
    "    resposta = modelo.generate_content(_PROMPT.format(texto=texto))\n",
    "    return _json_limpo(resposta.text)\n",
    "\n"
   ]
  },
  {
   "cell_type": "code",
   "execution_count": 29,
   "id": "2e80bb44",
   "metadata": {},
   "outputs": [
    {
     "data": {
      "text/plain": [
       "{'valor_multa_reais': 324116.21,\n",
       " 'tipo_infracao_concorrencial': 'cartel de peças automotivas',\n",
       " 'seguiu_nota_tecnica': True,\n",
       " 'houve_condenacao': True,\n",
       " 'tipo_decisao': 'Condenação parcial com imposição de multa pecuniária',\n",
       " 'houve_acordo': True,\n",
       " 'reincidencia': False}"
      ]
     },
     "execution_count": 29,
     "metadata": {},
     "output_type": "execute_result"
    }
   ],
   "source": [
    "a= df_final['resumo'].iloc[0]\n",
    "extrair_info(a)"
   ]
  },
  {
   "cell_type": "code",
   "execution_count": 24,
   "id": "9559f672",
   "metadata": {},
   "outputs": [
    {
     "data": {
      "text/plain": [
       "{'valor_multa_reais': 324116.21,\n",
       " 'percentual_faturamento': None,\n",
       " 'numero_multas': None,\n",
       " 'setor_padronizado': 'Peças Automotivas',\n",
       " 'quantidade_conselheiros': None,\n",
       " 'votos_favoraveis': None,\n",
       " 'votos_contrarios': None,\n",
       " 'voto_vencedor': 'Condenação',\n",
       " 'tipo_infracao_concorrencial': 'Cartel',\n",
       " 'seguiu_nota_tecnica': True,\n",
       " 'tempo_processual_dias': None,\n",
       " 'houve_condenacao': True,\n",
       " 'tipo_decisao': 'Condenação Parcial',\n",
       " 'houve_acordo': True,\n",
       " 'empresa_envolvida': ['Federal Mogul Sistemas Automotivos Ltda.',\n",
       "  'KSPG Automotive Brazil Ltda.',\n",
       "  'Mahle Metal Leve S.A.',\n",
       "  'MAHLE GmbH'],\n",
       " 'porte_empresa': None,\n",
       " 'relator_voto': 'Carlos Jacques Vieira Gomes',\n",
       " 'ano_decisao': 2024,\n",
       " 'reincidencia': False,\n",
       " 'descricao_fatos_relevantes': 'O presente Processo Administrativo apura potenciais condutas anticompetitivas no mercado de peças automotivas, voltadas ao mercado independente de peças de reposição (“IAM”), bem como ao mercado peças originais (“OEM”). As condutas teriam ocorrido entre 2004 e 2012. O Processo Administrativo é fruto de desmembramento do Processo Administrativo nº 08700.006065/2017-30.  O Processo Administrativo originário se iniciou com a celebração do Acordo de Leniência n. 19/2017, tendo como signatária a Mahle Metal Leve S.A. e Mahle GmbH, bem como alguns de seus funcionários e ex-funcionários. O Acordo de Leniência trouxe indícios e documentos que implicariam os Representados em condutas anticompetitivas no mercado de venda de peças de reposição (“IAM”) e no mercado de vendas de peças originais (“OEM”).',\n",
       " 'documento_origem': 'SEI/CADE - 1390607 - Voto Processo Administrativo'}"
      ]
     },
     "execution_count": 24,
     "metadata": {},
     "output_type": "execute_result"
    }
   ],
   "source": [
    "a= df_final['conteudo'].iloc[0]\n",
    "extrair_info(a)"
   ]
  },
  {
   "cell_type": "code",
   "execution_count": 27,
   "id": "64685610",
   "metadata": {},
   "outputs": [
    {
     "data": {
      "text/html": [
       "<div>\n",
       "<style scoped>\n",
       "    .dataframe tbody tr th:only-of-type {\n",
       "        vertical-align: middle;\n",
       "    }\n",
       "\n",
       "    .dataframe tbody tr th {\n",
       "        vertical-align: top;\n",
       "    }\n",
       "\n",
       "    .dataframe thead th {\n",
       "        text-align: right;\n",
       "    }\n",
       "</style>\n",
       "<table border=\"1\" class=\"dataframe\">\n",
       "  <thead>\n",
       "    <tr style=\"text-align: right;\">\n",
       "      <th></th>\n",
       "      <th>id</th>\n",
       "      <th>ano_documento</th>\n",
       "      <th>descricao_tipo_documento</th>\n",
       "      <th>decisao_tribunal</th>\n",
       "      <th>setor_economico</th>\n",
       "      <th>data_processo</th>\n",
       "      <th>data_documento</th>\n",
       "      <th>diferenca_dias</th>\n",
       "      <th>assinaturas</th>\n",
       "      <th>id_unidade</th>\n",
       "      <th>mercado_relevante</th>\n",
       "      <th>descricao_especificacao</th>\n",
       "      <th>conteudo</th>\n",
       "      <th>resumo</th>\n",
       "    </tr>\n",
       "  </thead>\n",
       "  <tbody>\n",
       "    <tr>\n",
       "      <th>0</th>\n",
       "      <td>abbdc450-7ff1-4990-9bcc-8ae4386592f0</td>\n",
       "      <td>2024</td>\n",
       "      <td>Voto Processo Administrativo</td>\n",
       "      <td>vazio</td>\n",
       "      <td>Fabricação de Peças e Acessórios para o Sistem...</td>\n",
       "      <td>2019-09-13</td>\n",
       "      <td>2024-05-23</td>\n",
       "      <td>1714</td>\n",
       "      <td>Outras</td>\n",
       "      <td>110000967.0</td>\n",
       "      <td>pistões de motor, bronzinas, camisas, pinos, b...</td>\n",
       "      <td>- Desmembrado  Bernd Brünig, Faustino Luigi Mi...</td>\n",
       "      <td>SEI/CADE - 1390607 - Voto Processo Administrat...</td>\n",
       "      <td>['\\nREPRESENTADOS(AS): BERND BRÜNIG, FAUSTINO ...</td>\n",
       "    </tr>\n",
       "    <tr>\n",
       "      <th>1</th>\n",
       "      <td>b41e8f1f-449e-4d28-a574-18f365d32b6f</td>\n",
       "      <td>2024</td>\n",
       "      <td>Voto Processo Administrativo</td>\n",
       "      <td>condenacao</td>\n",
       "      <td>Rare</td>\n",
       "      <td>2015-05-21</td>\n",
       "      <td>2024-05-09</td>\n",
       "      <td>3276</td>\n",
       "      <td>Gustavo Augusto Freitas de Lima</td>\n",
       "      <td>110000969.0</td>\n",
       "      <td>Mercado imobiliário</td>\n",
       "      <td>Influencia de conduta uniforme - COFECI</td>\n",
       "      <td>SEI/CADE - 1384594 - Voto Processo Administrat...</td>\n",
       "      <td>['\\nNOS TERMOS DO VOTO RECORRIDO, ESTE TRIBUNA...</td>\n",
       "    </tr>\n",
       "  </tbody>\n",
       "</table>\n",
       "</div>"
      ],
      "text/plain": [
       "                                     id  ano_documento  \\\n",
       "0  abbdc450-7ff1-4990-9bcc-8ae4386592f0           2024   \n",
       "1  b41e8f1f-449e-4d28-a574-18f365d32b6f           2024   \n",
       "\n",
       "       descricao_tipo_documento decisao_tribunal  \\\n",
       "0  Voto Processo Administrativo            vazio   \n",
       "1  Voto Processo Administrativo       condenacao   \n",
       "\n",
       "                                     setor_economico data_processo  \\\n",
       "0  Fabricação de Peças e Acessórios para o Sistem...    2019-09-13   \n",
       "1                                               Rare    2015-05-21   \n",
       "\n",
       "  data_documento  diferenca_dias                      assinaturas  \\\n",
       "0     2024-05-23            1714                           Outras   \n",
       "1     2024-05-09            3276  Gustavo Augusto Freitas de Lima   \n",
       "\n",
       "    id_unidade                                  mercado_relevante  \\\n",
       "0  110000967.0  pistões de motor, bronzinas, camisas, pinos, b...   \n",
       "1  110000969.0                                Mercado imobiliário   \n",
       "\n",
       "                             descricao_especificacao  \\\n",
       "0  - Desmembrado  Bernd Brünig, Faustino Luigi Mi...   \n",
       "1            Influencia de conduta uniforme - COFECI   \n",
       "\n",
       "                                            conteudo  \\\n",
       "0  SEI/CADE - 1390607 - Voto Processo Administrat...   \n",
       "1  SEI/CADE - 1384594 - Voto Processo Administrat...   \n",
       "\n",
       "                                              resumo  \n",
       "0  ['\\nREPRESENTADOS(AS): BERND BRÜNIG, FAUSTINO ...  \n",
       "1  ['\\nNOS TERMOS DO VOTO RECORRIDO, ESTE TRIBUNA...  "
      ]
     },
     "execution_count": 27,
     "metadata": {},
     "output_type": "execute_result"
    }
   ],
   "source": [
    "df_final.head(2)"
   ]
  },
  {
   "cell_type": "code",
   "execution_count": 26,
   "id": "154d0bfb",
   "metadata": {},
   "outputs": [
    {
     "data": {
      "text/plain": [
       "{'valor_multa_reais': 100000.0,\n",
       " 'percentual_faturamento': None,\n",
       " 'numero_multas': 1,\n",
       " 'setor_padronizado': None,\n",
       " 'quantidade_conselheiros': None,\n",
       " 'votos_favoraveis': None,\n",
       " 'votos_contrarios': None,\n",
       " 'voto_vencedor': 'Condenação',\n",
       " 'tipo_infracao_concorrencial': 'Imposição de preços mínimos',\n",
       " 'seguiu_nota_tecnica': None,\n",
       " 'tempo_processual_dias': None,\n",
       " 'houve_condenacao': True,\n",
       " 'tipo_decisao': 'Descumprimento de TCC',\n",
       " 'houve_acordo': True,\n",
       " 'empresa_envolvida': ['CRECI-MS'],\n",
       " 'porte_empresa': None,\n",
       " 'relator_voto': 'GUSTAVO AUGUSTO FREITAS DE LIMA',\n",
       " 'ano_decisao': 2024,\n",
       " 'reincidencia': None,\n",
       " 'descricao_fatos_relevantes': 'Descumprimento do Termo de Compromisso de Cessação (TCC) por instauração de procedimento disciplinar para impor cumprimento de tabela de preços de corretagem, após assinatura do TCC.',\n",
       " 'documento_origem': None}"
      ]
     },
     "execution_count": 26,
     "metadata": {},
     "output_type": "execute_result"
    }
   ],
   "source": [
    "a= df_final['resumo'].iloc[1]\n",
    "extrair_info(a)"
   ]
  },
  {
   "cell_type": "code",
   "execution_count": 25,
   "id": "fe5677a5",
   "metadata": {},
   "outputs": [
    {
     "data": {
      "text/plain": [
       "{'valor_multa_reais': 100000.0,\n",
       " 'percentual_faturamento': None,\n",
       " 'numero_multas': None,\n",
       " 'setor_padronizado': 'Mercado de Corretagem de Imóveis',\n",
       " 'quantidade_conselheiros': None,\n",
       " 'votos_favoraveis': None,\n",
       " 'votos_contrarios': None,\n",
       " 'voto_vencedor': 'Arquivamento',\n",
       " 'tipo_infracao_concorrencial': 'Imposição de preços mínimos',\n",
       " 'seguiu_nota_tecnica': None,\n",
       " 'tempo_processual_dias': None,\n",
       " 'houve_condenacao': False,\n",
       " 'tipo_decisao': 'Pedido de Reapreciação',\n",
       " 'houve_acordo': True,\n",
       " 'empresa_envolvida': ['Conselho Regional dos Corretores de Imóveis da 14ª região – CRECI-MS',\n",
       "  'Sindicato dos Corretores de Imóveis no Estado de Mato Grosso do Sul',\n",
       "  'Conselho Federal de Corretores de Imóveis – COFECI',\n",
       "  'Conselho Regional dos Corretores de Imóveis da 23ª Região – CRECI/PI',\n",
       "  'Conselho Regional dos Corretores de Imóveis da 18ª Região – CRECI/AM-RR',\n",
       "  'Conselho Regional dos Corretores de Imóveis da 3ª Região – CRECI-RS',\n",
       "  'Conselho Regional dos Corretores de Imóveis da 6ª Região – CRECI-PR',\n",
       "  'Conselho Regional dos Corretores de Imóveis da 11ª Região – CRECI-SC',\n",
       "  'Conselho Regional dos Corretores de Imóveis da 1ª Região – CRECI-RJ',\n",
       "  'Conselho Regional dos Corretores de Imóveis da 13ª Região – CRECI-ES',\n",
       "  'Conselho Regional dos Corretores de Imóveis da 2ª Região – CRECI-SP',\n",
       "  'Conselho Regional dos Corretores de Imóveis da 15ª Região – CRECI-CE',\n",
       "  'Conselho Regional dos Corretores de Imóveis da 20ª Região – CRECI-MA',\n",
       "  'Conselho Regional dos Corretores de Imóveis da 25ª Região – CRECI-TO',\n",
       "  'Conselho Regional dos Corretores de Imóveis da 16ª Região – CRECI-SE',\n",
       "  'Conselho Regional dos Corretores de Imóveis da 7ª Região – CRECI-PE',\n",
       "  'Conselho Regional dos Corretores de Imóveis da 9ª Região – CRECI-BA',\n",
       "  'Conselho Regional dos Corretores de Imóveis da 22ª Região – CRECI-AL',\n",
       "  'Conselho Regional dos Corretores de Imóveis da 17ª Região – CRECI-RN',\n",
       "  'Conselho Regional dos Corretores de Imóveis da 21ª Região – CRECI-PB',\n",
       "  'Conselho Regional dos Corretores de Imóveis da 8ª Região – CRECI-DF',\n",
       "  'Conselho Regional dos Corretores de Imóveis da 19ª Região – CRECI-MT',\n",
       "  'Conselho Regional dos Corretores de Imóveis da 12ª Região – CRECI-PA/AP',\n",
       "  'Conselho Regional dos Corretores de Imóveis da 24ª Região – CRECI-RO',\n",
       "  'Sindicato dos Corretores de Imóveis do Estado da Paraíba',\n",
       "  'Sindicato dos Corretores de Imóveis do Estado do Rio de Janeiro',\n",
       "  'Sindicato dos Corretores de Imóveis de Petrópolis',\n",
       "  'Sindicato dos Corretores de Imóveis da Região dos Lagos',\n",
       "  'Sindicato dos Corretores de Imóveis do Município do Rio de Janeiro',\n",
       "  'Sindicato dos Corretores de Imóveis do Estado de Rondônia',\n",
       "  'Sindicato das Empresas de Compra, Venda, Locação e Administração de Imóveis e dos Edifícios em Condomínios do Estado de Goiás',\n",
       "  'Sindicato das Empresas de Compra, Venda, Locação e Administração de Imóveis e dos Edifícios em Condomínios do Estado do Mato Grosso do Sul',\n",
       "  'Sindicato das Empresas de Compra, Venda, Locação e Administração de Imóveis e dos Edifícios em Condomínios do Estado da Paraíba',\n",
       "  'Sindicato das Empresas de Compra, Venda, Locação e Administração de Imóveis e dos Edifícios em Condomínios do Estado de Rondônia',\n",
       "  'Cláudia Timler Negócios Imobiliários Ltda ME'],\n",
       " 'porte_empresa': None,\n",
       " 'relator_voto': 'Gustavo Augusto',\n",
       " 'ano_decisao': 2024,\n",
       " 'reincidencia': False,\n",
       " 'descricao_fatos_relevantes': 'Pedido de Reapreciação de decisão que condenou o CRECI-MS e outros representados ao pagamento de multa por descumprimento de Termo de Compromisso de Cessação (TCC), devido à instauração de processo administrativo disciplinar para impor o cumprimento de tabela de preços de corretagem, mesmo após assinatura do TCC.',\n",
       " 'documento_origem': 'SEI/CADE - 1384594'}"
      ]
     },
     "execution_count": 25,
     "metadata": {},
     "output_type": "execute_result"
    }
   ],
   "source": [
    "a= df_final['conteudo'].iloc[1]\n",
    "extrair_info(a)"
   ]
  },
  {
   "cell_type": "code",
   "execution_count": 23,
   "id": "d5d99767",
   "metadata": {},
   "outputs": [
    {
     "data": {
      "text/plain": [
       "{'valor_multa_reais': None,\n",
       " 'percentual_faturamento': None,\n",
       " 'numero_multas': None,\n",
       " 'setor_padronizado': 'Revenda de combustíveis',\n",
       " 'quantidade_conselheiros': None,\n",
       " 'votos_favoraveis': None,\n",
       " 'votos_contrarios': None,\n",
       " 'voto_vencedor': 'Arquivamento',\n",
       " 'tipo_infracao_concorrencial': 'Cartél',\n",
       " 'seguiu_nota_tecnica': True,\n",
       " 'tempo_processual_dias': None,\n",
       " 'houve_condenacao': False,\n",
       " 'tipo_decisao': 'Arquivamento',\n",
       " 'houve_acordo': False,\n",
       " 'empresa_envolvida': ['AUTO POSTO PACAEMBU LTDA',\n",
       "  'AUTO POSTO BEIJA FLOR (FRANCIENE SOARES ROCHA)',\n",
       "  'AUTO CENTER PACAEMBU',\n",
       "  'CENTRAL AUTO POSTO LTDA',\n",
       "  'AUTO POSTO MELO BORGES EIRELI',\n",
       "  'AUTO POSTO CAPELINHA EIRELI',\n",
       "  'POSTO BRASIL LTDA',\n",
       "  'AUTO SERVICE JOIA COMERCIO DE COMBUSTÍVEIS EIRELI (KURUJÃO 93)',\n",
       "  'AUTO POSTO K92 EIRELI (KURUJÃO 92)',\n",
       "  'COSTA E LOURENÇO COMERCIO DE COMBUSTÍVEIS LTDA (KURUJÃO 83)',\n",
       "  'POSTO NOSSA SENHORA APARECIDA LTDA (POSTO NOSSA SENHORA APARECIDA)',\n",
       "  'POSTO VIA AZUL LTDA',\n",
       "  'POSTO MIRANTE PRIME LTDA (POSTO MIRANTE PRIME)',\n",
       "  'POSTO BOA VISTA LTDA',\n",
       "  'AUTO POSTO NIPPON LTDA',\n",
       "  'POSTO MILANI GASPAROTO COMÉRCIO DE COMBUSTÍVEIS E LOJA DE CONVENIÊNCIA (POSTO MILANI)',\n",
       "  'POSTO PALMEIRA IMPERIAL LTDA (POSTO MILANI)',\n",
       "  'POSTO E CONVENIÊNCIA TALISMÃ LTDA (POSTO MILANI)',\n",
       "  'AUTO POSTO ZUMPANO 8 LTDA (GRUPO FORTE)',\n",
       "  'AUTO POSTO ZUMPANO 9 LTDA (GRUPO FORTE)',\n",
       "  'AUTO POSTO ZUMPANO 10 LTDA (AUTO POSTO ZUMPANO 10)',\n",
       "  'AUTO POSTO ZUMPANO 11 LTDA',\n",
       "  'CINQUENTÃO COMÉRCIO DE COMBUSTÍVEIS LTDA',\n",
       "  'CINQUENTÃO COMÉRCIO DE COMBUSTÍVEIS LTDA',\n",
       "  'CINQUENTÃO COMÉRCIO DE COMBUSTÍVEIS LTDA',\n",
       "  'GRUPO CINQUENTÃO COMÉRCIO DE COMBUSTÍVEIS LTDA (POSTO APOLO)',\n",
       "  'POSTO AUTOMAN LTDA',\n",
       "  'POSTO AUTOMAN LTDA (POSTO AUTOMAN 1)'],\n",
       " 'porte_empresa': None,\n",
       " 'relator_voto': 'Conselheiro Carlos Jacques Vieira Gomes',\n",
       " 'ano_decisao': 2024,\n",
       " 'reincidencia': None,\n",
       " 'descricao_fatos_relevantes': 'Suposto cartel no mercado de revenda de combustíveis em Uberaba/MG. Nulidade das provas oriundas de interceptações telefônicas e telemáticas compartilhadas com o CADE.  Ausência de indícios suficientes de infração à ordem econômica após desentranhamento das provas.',\n",
       " 'documento_origem': None}"
      ]
     },
     "execution_count": 23,
     "metadata": {},
     "output_type": "execute_result"
    }
   ],
   "source": [
    "a= df_final['resumo'].iloc[2]\n",
    "extrair_info(a)"
   ]
  },
  {
   "cell_type": "code",
   "execution_count": null,
   "id": "789b99fb",
   "metadata": {},
   "outputs": [],
   "source": [
    "import pandas as pd\n",
    "\n",
    "# Define the column names and their descriptions\n",
    "columns_with_descriptions = {\n",
    "    \"valor_multa_reais\": \"Valor da multa aplicada em reais (float).\",\n",
    "    \"percentual_faturamento\": \"Multa como percentual do faturamento da empresa (%).\",\n",
    "    \"numero_multas\": \"Quantidade total de multas aplicadas na decisão.\",\n",
    "    \"setor_padronizado\": \"Setor econômico ao qual a empresa pertence (ex: saúde, financeiro).\",\n",
    "    \"quantidade_conselheiros\": \"Número total de conselheiros que votaram.\",\n",
    "    \"votos_favoraveis\": \"Número de votos favoráveis à condenação.\",\n",
    "    \"votos_contrarios\": \"Número de votos contrários à condenação.\",\n",
    "    \"voto_vencedor\": \"Resultado do voto vencedor (ex: condenação, arquivamento).\",\n",
    "    \"tipo_infracao_concorrencial\": \"Tipo da infração (ex: cartel, abuso de posição dominante).\",\n",
    "    \"seguiu_nota_tecnica\": \"Indica se a decisão seguiu a nota técnica (True/False).\",\n",
    "    \"tempo_processual_dias\": \"Tempo total do processo em dias.\",\n",
    "    \"houve_condenacao\": \"Indica se houve condenação na decisão (True/False).\",\n",
    "    \"tipo_decisao\": \"Classificação da decisão (ex: condenação, arquivamento, acordo).\",\n",
    "    \"houve_acordo\": \"Indica se houve acordo como TCC (True/False).\",\n",
    "    \"empresa_envolvida\": \"Nome da(s) empresa(s) envolvida(s).\",\n",
    "    \"porte_empresa\": \"Porte da empresa (ex: micro, pequena, média, grande).\",\n",
    "    \"relator_voto\": \"Nome do conselheiro relator do processo.\",\n",
    "    \"ano_decisao\": \"Ano da decisão final.\",\n",
    "    \"reincidencia\": \"Indica se a empresa é reincidente (True/False).\",\n",
    "    \"descricao_fatos_relevantes\": \"Resumo dos fatos relevantes do caso.\",\n",
    "    \"documento_origem\": \"Link ou identificador do documento de origem.\"\n",
    "}\n",
    "\n",
    "# Create an empty DataFrame with these columns\n",
    "df = pd.DataFrame(columns=columns_with_descriptions.keys())\n",
    "\n",
    "import ace_tools as tools; tools.display_dataframe_to_user(name=\"CADE_Analise_Variaveis\", dataframe=df)\n"
   ]
  }
 ],
 "metadata": {
  "kernelspec": {
   "display_name": "Python 3",
   "language": "python",
   "name": "python3"
  },
  "language_info": {
   "codemirror_mode": {
    "name": "ipython",
    "version": 3
   },
   "file_extension": ".py",
   "mimetype": "text/x-python",
   "name": "python",
   "nbconvert_exporter": "python",
   "pygments_lexer": "ipython3",
   "version": "3.10.12"
  }
 },
 "nbformat": 4,
 "nbformat_minor": 5
}
