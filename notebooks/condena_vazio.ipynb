{
 "cells": [
  {
   "cell_type": "code",
   "execution_count": 1,
   "id": "622d041b",
   "metadata": {},
   "outputs": [],
   "source": [
    "import pandas as pd \n",
    "import numpy as np \n",
    "import matplotlib.pyplot as plt "
   ]
  },
  {
   "cell_type": "code",
   "execution_count": 2,
   "id": "8298b5aa",
   "metadata": {},
   "outputs": [
    {
     "name": "stdout",
     "output_type": "stream",
     "text": [
      "Quantidade de linhas: 9518\n",
      "Quantidade de colunas: 34\n"
     ]
    }
   ],
   "source": [
    "df_limpo = pd.read_csv('../dados/df_limpo.csv', low_memory=False)\n",
    "\n",
    "linhas, colunas = df_limpo.shape\n",
    "print(f\"Quantidade de linhas: {linhas}\")\n",
    "print(f\"Quantidade de colunas: {colunas}\")"
   ]
  },
  {
   "cell_type": "code",
   "execution_count": 3,
   "id": "c99a0b43",
   "metadata": {},
   "outputs": [
    {
     "data": {
      "text/plain": [
       "decisao_tribunal\n",
       "vazio                                                          6756\n",
       "condenacao                                                      895\n",
       "Homologação                                                     684\n",
       "arquivamento                                                    396\n",
       "Aprovação condicionada à celebração e ao cumprimento de ACC     301\n",
       "Aprovação sem restrições                                        219\n",
       "Conhecimento                                                     59\n",
       "Reprovação                                                       50\n",
       "Arquivamento por perda de objeto                                 34\n",
       "Acordo em APAC                                                   27\n",
       "Rejeição                                                         23\n",
       "Outros compromissos assumidos                                    23\n",
       "Aprovação com restrições                                         20\n",
       "Necessidade de notificação do AC                                 10\n",
       "Indeferida de Plano                                               8\n",
       "Não conhecimento                                                  8\n",
       "Acordo em APAC# Necessidade de notificação do AC                  2\n",
       "Aplicação de pena de multa pecuniária                             2\n",
       "Perda de Objeto                                                   1\n",
       "Name: count, dtype: int64"
      ]
     },
     "execution_count": 3,
     "metadata": {},
     "output_type": "execute_result"
    }
   ],
   "source": [
    "df_limpo['decisao_tribunal'].value_counts()         "
   ]
  },
  {
   "cell_type": "code",
   "execution_count": 4,
   "id": "87e1080a",
   "metadata": {},
   "outputs": [
    {
     "name": "stdout",
     "output_type": "stream",
     "text": [
      "Quantidade de linhas: 6756\n",
      "Quantidade de colunas: 34\n"
     ]
    }
   ],
   "source": [
    "df_filtrado = df_limpo[df_limpo['decisao_tribunal'].isin(['vazio', 'Condenação'])]\n",
    "\n",
    "\n",
    "linhas, colunas = df_filtrado.shape\n",
    "print(f\"Quantidade de linhas: {linhas}\")\n",
    "print(f\"Quantidade de colunas: {colunas}\")"
   ]
  },
  {
   "cell_type": "code",
   "execution_count": 10,
   "id": "565ab7df",
   "metadata": {},
   "outputs": [],
   "source": [
    "df_filtrado.to_csv(\"../dados/df_condena_vazio.csv\", index=False)"
   ]
  },
  {
   "cell_type": "code",
   "execution_count": 6,
   "id": "e5878114",
   "metadata": {},
   "outputs": [],
   "source": [
    "# df_limpo = df_limpo[df_limpo['descricao_tipo_processo'].isin(['Processo Administrativo', 'Inquerito Administrativo'])]\n",
    "# df_limpo = df_limpo[df_limpo['descricao_tipo_documento'].isin(['Voto', 'Voto Processo Administrativo', 'Voto Embargos de Declaração'])]"
   ]
  },
  {
   "cell_type": "code",
   "execution_count": 7,
   "id": "25bdccf0",
   "metadata": {},
   "outputs": [],
   "source": [
    "# # linhas, colunas = df.shape\n",
    "# print(f\"Quantidade de linhas: {linhas}\")\n",
    "# print(f\"Quantidade de colunas: {colunas}\")"
   ]
  },
  {
   "cell_type": "code",
   "execution_count": 8,
   "id": "839e8517",
   "metadata": {},
   "outputs": [],
   "source": [
    "# tipos_validos = [\n",
    "#     \"Voto\",\n",
    "#     \"Voto Processo Administrativo\",\n",
    "#     \"Voto Embargos de Declaração\"\n",
    "# ]\n",
    "\n",
    "# df_votos_filtrados = df_limpo.loc[\n",
    "#     (df[\"descricao_tipo_documento\"].isin(tipos_validos)) &\n",
    "#     (df[\"descricao_tipo_processo\"] == \"Processo Administrativo\")\n",
    "# ]\n",
    "\n",
    "# counts = df_votos_filtrados[\"decisao_tribunal\"].value_counts()\n",
    "# total = counts.sum()\n",
    "# print(total)\n",
    "\n",
    "\n",
    "# with pd.option_context('display.max_colwidth', None):\n",
    "#     display(df_votos_filtrados['conteudo'].head(2))\n"
   ]
  },
  {
   "cell_type": "code",
   "execution_count": 9,
   "id": "939e7aba",
   "metadata": {},
   "outputs": [],
   "source": [
    "# df = df[df['descricao_tipo_processo'].isin(['Processo Administrativo', 'Inquerito Administrativo'])]\n",
    "# df = df[df['descricao_tipo_documento'].isin(['Voto', 'Voto Processo Administrativo', 'Voto Embargos de Declaração'])]"
   ]
  }
 ],
 "metadata": {
  "kernelspec": {
   "display_name": "Python 3",
   "language": "python",
   "name": "python3"
  },
  "language_info": {
   "codemirror_mode": {
    "name": "ipython",
    "version": 3
   },
   "file_extension": ".py",
   "mimetype": "text/x-python",
   "name": "python",
   "nbconvert_exporter": "python",
   "pygments_lexer": "ipython3",
   "version": "3.10.12"
  }
 },
 "nbformat": 4,
 "nbformat_minor": 5
}
