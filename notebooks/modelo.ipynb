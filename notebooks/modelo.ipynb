{
 "cells": [
  {
   "cell_type": "code",
   "execution_count": 1,
   "id": "a6562745",
   "metadata": {},
   "outputs": [
    {
     "name": "stderr",
     "output_type": "stream",
     "text": [
      "/usr/lib/python3/dist-packages/scipy/__init__.py:146: UserWarning: A NumPy version >=1.17.3 and <1.25.0 is required for this version of SciPy (detected version 1.26.4\n",
      "  warnings.warn(f\"A NumPy version >={np_minversion} and <{np_maxversion}\"\n"
     ]
    }
   ],
   "source": [
    "import pandas as pd\n",
    "import matplotlib.pyplot as plt\n",
    "import numpy as np\n",
    "import seaborn as sb\n",
    "from sklearn.model_selection import train_test_split # data split\n",
    "from sklearn.linear_model import LinearRegression # OLS algorithm\n",
    "from sklearn.metrics import explained_variance_score as evs # evaluation metric\n",
    "from sklearn.metrics import r2_score as r2 # evaluation metric\n",
    "from sklearn.metrics import mean_absolute_percentage_error, mean_squared_error"
   ]
  },
  {
   "cell_type": "code",
   "execution_count": 2,
   "id": "8f86f864",
   "metadata": {},
   "outputs": [],
   "source": [
    "df = pd.read_csv(\"../dados/df_preparado.csv\")"
   ]
  },
  {
   "cell_type": "code",
   "execution_count": 3,
   "id": "775ac38c",
   "metadata": {},
   "outputs": [
    {
     "data": {
      "text/html": [
       "<div>\n",
       "<style scoped>\n",
       "    .dataframe tbody tr th:only-of-type {\n",
       "        vertical-align: middle;\n",
       "    }\n",
       "\n",
       "    .dataframe tbody tr th {\n",
       "        vertical-align: top;\n",
       "    }\n",
       "\n",
       "    .dataframe thead th {\n",
       "        text-align: right;\n",
       "    }\n",
       "</style>\n",
       "<table border=\"1\" class=\"dataframe\">\n",
       "  <thead>\n",
       "    <tr style=\"text-align: right;\">\n",
       "      <th></th>\n",
       "      <th>id</th>\n",
       "      <th>id_unique</th>\n",
       "      <th>numero_sei</th>\n",
       "      <th>ano_documento</th>\n",
       "      <th>assinaturas</th>\n",
       "      <th>descricao_tipo_documento</th>\n",
       "      <th>descricao_tipo_processo</th>\n",
       "      <th>numero_processo</th>\n",
       "      <th>id_unidade</th>\n",
       "      <th>sigla_unidade</th>\n",
       "      <th>...</th>\n",
       "      <th>link_documento</th>\n",
       "      <th>mercado_relevante</th>\n",
       "      <th>documentos_relacionados</th>\n",
       "      <th>descricao_especificacao</th>\n",
       "      <th>data_processo</th>\n",
       "      <th>_version_</th>\n",
       "      <th>corpo_texto</th>\n",
       "      <th>decisao_tribunal</th>\n",
       "      <th>conteudo</th>\n",
       "      <th>diferenca_dias</th>\n",
       "    </tr>\n",
       "  </thead>\n",
       "  <tbody>\n",
       "    <tr>\n",
       "      <th>0</th>\n",
       "      <td>abbdc450-7ff1-4990-9bcc-8ae4386592f0</td>\n",
       "      <td>jurisprudencia__1390607</td>\n",
       "      <td>1390607</td>\n",
       "      <td>2024</td>\n",
       "      <td>Outras</td>\n",
       "      <td>Voto Processo Administrativo</td>\n",
       "      <td>Processo Administrativo</td>\n",
       "      <td>08700.004558/2019-05</td>\n",
       "      <td>110000967.0</td>\n",
       "      <td>GAB1</td>\n",
       "      <td>...</td>\n",
       "      <td>http://sei.cade.gov.br/sei//modulos/pesquisa/m...</td>\n",
       "      <td>pistões de motor, bronzinas, camisas, pinos, b...</td>\n",
       "      <td>{id_unidade:110000967,protocolo_documento:1085...</td>\n",
       "      <td>- Desmembrado  Bernd Brünig, Faustino Luigi Mi...</td>\n",
       "      <td>2019-09-13</td>\n",
       "      <td>1800936057604145200</td>\n",
       "      <td>NaN</td>\n",
       "      <td>vazio</td>\n",
       "      <td>SEI/CADE - 1390607 - Voto Processo Administrat...</td>\n",
       "      <td>1714</td>\n",
       "    </tr>\n",
       "    <tr>\n",
       "      <th>1</th>\n",
       "      <td>b41e8f1f-449e-4d28-a574-18f365d32b6f</td>\n",
       "      <td>jurisprudencia__1384594</td>\n",
       "      <td>1384594</td>\n",
       "      <td>2024</td>\n",
       "      <td>Gustavo Augusto Freitas de Lima</td>\n",
       "      <td>Voto Processo Administrativo</td>\n",
       "      <td>Processo Administrativo</td>\n",
       "      <td>08700.004974/2015-71</td>\n",
       "      <td>110000969.0</td>\n",
       "      <td>GAB3</td>\n",
       "      <td>...</td>\n",
       "      <td>http://sei.cade.gov.br/sei//modulos/pesquisa/m...</td>\n",
       "      <td>Mercado imobiliário</td>\n",
       "      <td>{id_unidade:110000969,protocolo_documento:0257...</td>\n",
       "      <td>Influencia de conduta uniforme - COFECI</td>\n",
       "      <td>2015-05-21</td>\n",
       "      <td>1800936002855895000</td>\n",
       "      <td>NaN</td>\n",
       "      <td>condenacao</td>\n",
       "      <td>SEI/CADE - 1384594 - Voto Processo Administrat...</td>\n",
       "      <td>3276</td>\n",
       "    </tr>\n",
       "    <tr>\n",
       "      <th>2</th>\n",
       "      <td>adec625d-4f5e-4514-b938-a295fdc1e8a4</td>\n",
       "      <td>jurisprudencia__1384685</td>\n",
       "      <td>1384685</td>\n",
       "      <td>2024</td>\n",
       "      <td>Outras</td>\n",
       "      <td>Voto</td>\n",
       "      <td>Processo Administrativo</td>\n",
       "      <td>08700.005915/2022-40</td>\n",
       "      <td>110001021.0</td>\n",
       "      <td>DIAP</td>\n",
       "      <td>...</td>\n",
       "      <td>http://sei.cade.gov.br/sei//modulos/pesquisa/m...</td>\n",
       "      <td>Postos de gasolina</td>\n",
       "      <td>{id_unidade:110001021,protocolo_documento:1100...</td>\n",
       "      <td>Ministério Público do Estado de Minas Gerais</td>\n",
       "      <td>2022-08-08</td>\n",
       "      <td>1800936088917770200</td>\n",
       "      <td>voto\\r\\n\\r\\nI. BREVE RESUMO DO PROCESSO&amp;nbsp;\\...</td>\n",
       "      <td>arquivamento</td>\n",
       "      <td>SEI/CADE - 1384685 - Voto\\n\\n\\nProcesso nº 087...</td>\n",
       "      <td>640</td>\n",
       "    </tr>\n",
       "  </tbody>\n",
       "</table>\n",
       "<p>3 rows × 31 columns</p>\n",
       "</div>"
      ],
      "text/plain": [
       "                                     id                id_unique  numero_sei  \\\n",
       "0  abbdc450-7ff1-4990-9bcc-8ae4386592f0  jurisprudencia__1390607     1390607   \n",
       "1  b41e8f1f-449e-4d28-a574-18f365d32b6f  jurisprudencia__1384594     1384594   \n",
       "2  adec625d-4f5e-4514-b938-a295fdc1e8a4  jurisprudencia__1384685     1384685   \n",
       "\n",
       "   ano_documento                      assinaturas  \\\n",
       "0           2024                           Outras   \n",
       "1           2024  Gustavo Augusto Freitas de Lima   \n",
       "2           2024                           Outras   \n",
       "\n",
       "       descricao_tipo_documento  descricao_tipo_processo  \\\n",
       "0  Voto Processo Administrativo  Processo Administrativo   \n",
       "1  Voto Processo Administrativo  Processo Administrativo   \n",
       "2                          Voto  Processo Administrativo   \n",
       "\n",
       "        numero_processo   id_unidade sigla_unidade  ...  \\\n",
       "0  08700.004558/2019-05  110000967.0          GAB1  ...   \n",
       "1  08700.004974/2015-71  110000969.0          GAB3  ...   \n",
       "2  08700.005915/2022-40  110001021.0          DIAP  ...   \n",
       "\n",
       "                                      link_documento  \\\n",
       "0  http://sei.cade.gov.br/sei//modulos/pesquisa/m...   \n",
       "1  http://sei.cade.gov.br/sei//modulos/pesquisa/m...   \n",
       "2  http://sei.cade.gov.br/sei//modulos/pesquisa/m...   \n",
       "\n",
       "                                   mercado_relevante  \\\n",
       "0  pistões de motor, bronzinas, camisas, pinos, b...   \n",
       "1                                Mercado imobiliário   \n",
       "2                                 Postos de gasolina   \n",
       "\n",
       "                             documentos_relacionados  \\\n",
       "0  {id_unidade:110000967,protocolo_documento:1085...   \n",
       "1  {id_unidade:110000969,protocolo_documento:0257...   \n",
       "2  {id_unidade:110001021,protocolo_documento:1100...   \n",
       "\n",
       "                             descricao_especificacao data_processo  \\\n",
       "0  - Desmembrado  Bernd Brünig, Faustino Luigi Mi...    2019-09-13   \n",
       "1            Influencia de conduta uniforme - COFECI    2015-05-21   \n",
       "2       Ministério Público do Estado de Minas Gerais    2022-08-08   \n",
       "\n",
       "             _version_                                        corpo_texto  \\\n",
       "0  1800936057604145200                                                NaN   \n",
       "1  1800936002855895000                                                NaN   \n",
       "2  1800936088917770200  voto\\r\\n\\r\\nI. BREVE RESUMO DO PROCESSO&nbsp;\\...   \n",
       "\n",
       "  decisao_tribunal                                           conteudo  \\\n",
       "0            vazio  SEI/CADE - 1390607 - Voto Processo Administrat...   \n",
       "1       condenacao  SEI/CADE - 1384594 - Voto Processo Administrat...   \n",
       "2     arquivamento  SEI/CADE - 1384685 - Voto\\n\\n\\nProcesso nº 087...   \n",
       "\n",
       "  diferenca_dias  \n",
       "0           1714  \n",
       "1           3276  \n",
       "2            640  \n",
       "\n",
       "[3 rows x 31 columns]"
      ]
     },
     "execution_count": 3,
     "metadata": {},
     "output_type": "execute_result"
    }
   ],
   "source": [
    "df.head(3)"
   ]
  },
  {
   "cell_type": "code",
   "execution_count": 4,
   "id": "4953334f",
   "metadata": {},
   "outputs": [
    {
     "data": {
      "text/plain": [
       "descricao_tipo_documento\n",
       "Voto                            582\n",
       "Voto Processo Administrativo    237\n",
       "Voto Embargos de Declaração      75\n",
       "Name: count, dtype: int64"
      ]
     },
     "execution_count": 4,
     "metadata": {},
     "output_type": "execute_result"
    }
   ],
   "source": [
    "df['descricao_tipo_documento'].value_counts()"
   ]
  },
  {
   "cell_type": "code",
   "execution_count": 5,
   "id": "127622fd",
   "metadata": {},
   "outputs": [
    {
     "ename": "KeyError",
     "evalue": "'grupo_setor'",
     "output_type": "error",
     "traceback": [
      "\u001b[0;31m---------------------------------------------------------------------------\u001b[0m",
      "\u001b[0;31mKeyError\u001b[0m                                  Traceback (most recent call last)",
      "File \u001b[0;32m~/.local/lib/python3.10/site-packages/pandas/core/indexes/base.py:3805\u001b[0m, in \u001b[0;36mIndex.get_loc\u001b[0;34m(self, key)\u001b[0m\n\u001b[1;32m   3804\u001b[0m \u001b[38;5;28;01mtry\u001b[39;00m:\n\u001b[0;32m-> 3805\u001b[0m     \u001b[38;5;28;01mreturn\u001b[39;00m \u001b[38;5;28;43mself\u001b[39;49m\u001b[38;5;241;43m.\u001b[39;49m\u001b[43m_engine\u001b[49m\u001b[38;5;241;43m.\u001b[39;49m\u001b[43mget_loc\u001b[49m\u001b[43m(\u001b[49m\u001b[43mcasted_key\u001b[49m\u001b[43m)\u001b[49m\n\u001b[1;32m   3806\u001b[0m \u001b[38;5;28;01mexcept\u001b[39;00m \u001b[38;5;167;01mKeyError\u001b[39;00m \u001b[38;5;28;01mas\u001b[39;00m err:\n",
      "File \u001b[0;32mindex.pyx:167\u001b[0m, in \u001b[0;36mpandas._libs.index.IndexEngine.get_loc\u001b[0;34m()\u001b[0m\n",
      "File \u001b[0;32mindex.pyx:196\u001b[0m, in \u001b[0;36mpandas._libs.index.IndexEngine.get_loc\u001b[0;34m()\u001b[0m\n",
      "File \u001b[0;32mpandas/_libs/hashtable_class_helper.pxi:7081\u001b[0m, in \u001b[0;36mpandas._libs.hashtable.PyObjectHashTable.get_item\u001b[0;34m()\u001b[0m\n",
      "File \u001b[0;32mpandas/_libs/hashtable_class_helper.pxi:7089\u001b[0m, in \u001b[0;36mpandas._libs.hashtable.PyObjectHashTable.get_item\u001b[0;34m()\u001b[0m\n",
      "\u001b[0;31mKeyError\u001b[0m: 'grupo_setor'",
      "\nThe above exception was the direct cause of the following exception:\n",
      "\u001b[0;31mKeyError\u001b[0m                                  Traceback (most recent call last)",
      "Cell \u001b[0;32mIn[5], line 3\u001b[0m\n\u001b[1;32m      1\u001b[0m plt\u001b[38;5;241m.\u001b[39mfigure(figsize\u001b[38;5;241m=\u001b[39m(\u001b[38;5;241m16\u001b[39m,\u001b[38;5;241m6\u001b[39m))\n\u001b[0;32m----> 3\u001b[0m contagem \u001b[38;5;241m=\u001b[39m \u001b[43mdf\u001b[49m\u001b[43m[\u001b[49m\u001b[38;5;124;43m'\u001b[39;49m\u001b[38;5;124;43mgrupo_setor\u001b[39;49m\u001b[38;5;124;43m'\u001b[39;49m\u001b[43m]\u001b[49m\u001b[38;5;241m.\u001b[39mvalue_counts()\n\u001b[1;32m      5\u001b[0m plt\u001b[38;5;241m.\u001b[39msubplot(\u001b[38;5;241m121\u001b[39m)\n\u001b[1;32m      6\u001b[0m plt\u001b[38;5;241m.\u001b[39mbar(contagem\u001b[38;5;241m.\u001b[39mindex, contagem\u001b[38;5;241m.\u001b[39mvalues, color\u001b[38;5;241m=\u001b[39m\u001b[38;5;124m'\u001b[39m\u001b[38;5;124mskyblue\u001b[39m\u001b[38;5;124m'\u001b[39m)\n",
      "File \u001b[0;32m~/.local/lib/python3.10/site-packages/pandas/core/frame.py:4102\u001b[0m, in \u001b[0;36mDataFrame.__getitem__\u001b[0;34m(self, key)\u001b[0m\n\u001b[1;32m   4100\u001b[0m \u001b[38;5;28;01mif\u001b[39;00m \u001b[38;5;28mself\u001b[39m\u001b[38;5;241m.\u001b[39mcolumns\u001b[38;5;241m.\u001b[39mnlevels \u001b[38;5;241m>\u001b[39m \u001b[38;5;241m1\u001b[39m:\n\u001b[1;32m   4101\u001b[0m     \u001b[38;5;28;01mreturn\u001b[39;00m \u001b[38;5;28mself\u001b[39m\u001b[38;5;241m.\u001b[39m_getitem_multilevel(key)\n\u001b[0;32m-> 4102\u001b[0m indexer \u001b[38;5;241m=\u001b[39m \u001b[38;5;28;43mself\u001b[39;49m\u001b[38;5;241;43m.\u001b[39;49m\u001b[43mcolumns\u001b[49m\u001b[38;5;241;43m.\u001b[39;49m\u001b[43mget_loc\u001b[49m\u001b[43m(\u001b[49m\u001b[43mkey\u001b[49m\u001b[43m)\u001b[49m\n\u001b[1;32m   4103\u001b[0m \u001b[38;5;28;01mif\u001b[39;00m is_integer(indexer):\n\u001b[1;32m   4104\u001b[0m     indexer \u001b[38;5;241m=\u001b[39m [indexer]\n",
      "File \u001b[0;32m~/.local/lib/python3.10/site-packages/pandas/core/indexes/base.py:3812\u001b[0m, in \u001b[0;36mIndex.get_loc\u001b[0;34m(self, key)\u001b[0m\n\u001b[1;32m   3807\u001b[0m     \u001b[38;5;28;01mif\u001b[39;00m \u001b[38;5;28misinstance\u001b[39m(casted_key, \u001b[38;5;28mslice\u001b[39m) \u001b[38;5;129;01mor\u001b[39;00m (\n\u001b[1;32m   3808\u001b[0m         \u001b[38;5;28misinstance\u001b[39m(casted_key, abc\u001b[38;5;241m.\u001b[39mIterable)\n\u001b[1;32m   3809\u001b[0m         \u001b[38;5;129;01mand\u001b[39;00m \u001b[38;5;28many\u001b[39m(\u001b[38;5;28misinstance\u001b[39m(x, \u001b[38;5;28mslice\u001b[39m) \u001b[38;5;28;01mfor\u001b[39;00m x \u001b[38;5;129;01min\u001b[39;00m casted_key)\n\u001b[1;32m   3810\u001b[0m     ):\n\u001b[1;32m   3811\u001b[0m         \u001b[38;5;28;01mraise\u001b[39;00m InvalidIndexError(key)\n\u001b[0;32m-> 3812\u001b[0m     \u001b[38;5;28;01mraise\u001b[39;00m \u001b[38;5;167;01mKeyError\u001b[39;00m(key) \u001b[38;5;28;01mfrom\u001b[39;00m \u001b[38;5;21;01merr\u001b[39;00m\n\u001b[1;32m   3813\u001b[0m \u001b[38;5;28;01mexcept\u001b[39;00m \u001b[38;5;167;01mTypeError\u001b[39;00m:\n\u001b[1;32m   3814\u001b[0m     \u001b[38;5;66;03m# If we have a listlike key, _check_indexing_error will raise\u001b[39;00m\n\u001b[1;32m   3815\u001b[0m     \u001b[38;5;66;03m#  InvalidIndexError. Otherwise we fall through and re-raise\u001b[39;00m\n\u001b[1;32m   3816\u001b[0m     \u001b[38;5;66;03m#  the TypeError.\u001b[39;00m\n\u001b[1;32m   3817\u001b[0m     \u001b[38;5;28mself\u001b[39m\u001b[38;5;241m.\u001b[39m_check_indexing_error(key)\n",
      "\u001b[0;31mKeyError\u001b[0m: 'grupo_setor'"
     ]
    },
    {
     "data": {
      "text/plain": [
       "<Figure size 1600x600 with 0 Axes>"
      ]
     },
     "metadata": {},
     "output_type": "display_data"
    }
   ],
   "source": [
    "plt.figure(figsize=(16,6))\n",
    "\n",
    "contagem = df['grupo_setor'].value_counts()\n",
    "\n",
    "plt.subplot(121)\n",
    "plt.bar(contagem.index, contagem.values, color='skyblue')\n",
    "#plt.plot(contagem.index, contagem.values, color='blue', marker='o', linestyle='--', label='Tendência')\n",
    "plt.title('Distribuição dos grupos economicos', fontsize = 14)\n",
    "plt.xlabel('Grupo economico', fontsize = 12)\n",
    "plt.ylabel('Quantidade de processos', fontsize = 12)\n",
    "plt.xticks(rotation=60, ha='right')\n",
    "plt.yticks(fontsize = 10)\n",
    "\n",
    "\n",
    "plt.subplot(122)\n",
    "plt.pie(\n",
    "    contagem.values, \n",
    "    labels=contagem.index, \n",
    "    autopct='%1.1f%%',        \n",
    "    startangle=90,            \n",
    "    counterclock=False,\n",
    "    labeldistance=1.15,\n",
    "    pctdistance=0.7,\n",
    "    textprops={'fontsize': 8}  \n",
    ")\n",
    "plt.title('Distribuição dos Grupos Econômicos')\n",
    "\n",
    "plt.show()"
   ]
  },
  {
   "cell_type": "code",
   "execution_count": null,
   "id": "41b3a42a",
   "metadata": {},
   "outputs": [
    {
     "data": {
      "image/png": "[encoded data removed]",
      "text/plain": [
       "<Figure size 800x600 with 1 Axes>"
      ]
     },
     "metadata": {},
     "output_type": "display_data"
    }
   ],
   "source": [
    "# Supondo que df já está definido\n",
    "dados = df['diferenca_dias']\n",
    "\n",
    "media = np.mean(dados)\n",
    "mediana = np.median(dados)\n",
    "\n",
    "fig, ax = plt.subplots(figsize=(8,6))\n",
    "\n",
    "box = ax.boxplot(dados, showmeans=True, meanline=True,\n",
    "                 meanprops=dict(color='red', linewidth=2),\n",
    "                 medianprops=dict(color='orange', linewidth=2))\n",
    "\n",
    "ax.set_title('Distribuição da Diferença de Dias')\n",
    "ax.set_xlabel('Processos')\n",
    "ax.set_ylabel('Diferença de Dias')\n",
    "\n",
    "# Adiciona legenda\n",
    "ax.annotate(f'Média: {media:.1f}', xy=(1.08, media), xycoords=('data', 'data'),\n",
    "            color='red', fontsize=12, va='center')\n",
    "ax.annotate(f'Mediana: {mediana:.1f}', xy=(1.08, mediana), xycoords=('data', 'data'),\n",
    "            color='orange', fontsize=12, va='center')\n",
    "\n",
    "# Adiciona legenda\n",
    "import matplotlib.lines as mlines\n",
    "mean_line = mlines.Line2D([], [], color='red',linestyle='--', label='Média')\n",
    "median_line = mlines.Line2D([], [], color='orange', label='Mediana')\n",
    "ax.legend(handles=[mean_line, median_line])\n",
    "\n",
    "plt.tight_layout()\n",
    "plt.show()"
   ]
  }
 ],
 "metadata": {
  "kernelspec": {
   "display_name": "Python 3",
   "language": "python",
   "name": "python3"
  },
  "language_info": {
   "codemirror_mode": {
    "name": "ipython",
    "version": 3
   },
   "file_extension": ".py",
   "mimetype": "text/x-python",
   "name": "python",
   "nbconvert_exporter": "python",
   "pygments_lexer": "ipython3",
   "version": "3.10.12"
  }
 },
 "nbformat": 4,
 "nbformat_minor": 5
}
